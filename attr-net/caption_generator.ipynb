{
 "cells": [
  {
   "cell_type": "code",
   "execution_count": 1,
   "metadata": {},
   "outputs": [
    {
     "name": "stderr",
     "output_type": "stream",
     "text": [
      "Using TensorFlow backend.\n"
     ]
    }
   ],
   "source": [
    "from collections import defaultdict\n",
    "from itertools import chain\n",
    "import json\n",
    "from pathlib import Path\n",
    "\n",
    "import tensorflow as tf\n",
    "from keras.models import Sequential\n",
    "from keras.layers.core import Dense, Flatten\n",
    "from keras.layers.embeddings import Embedding\n",
    "from keras.layers.recurrent import LSTM, SimpleRNN\n",
    "from keras.layers.wrappers import TimeDistributed\n",
    "from nltk import word_tokenize\n",
    "import numpy as np"
   ]
  },
  {
   "cell_type": "code",
   "execution_count": 2,
   "metadata": {},
   "outputs": [],
   "source": [
    "data_path = Path('/home/ilai/CMU/Fall2017/11777_Advanced_Multimodal_Machine_Learning/Project/visual-concepts/preprocessing')\n",
    "visual_concepts_path = Path('/home/ilai/CMU/Fall2017/11777_Advanced_Multimodal_Machine_Learning/Project/visual-concepts/data')\n",
    "annotations_path = visual_concepts_path.joinpath('annotations')"
   ]
  },
  {
   "cell_type": "code",
   "execution_count": 3,
   "metadata": {},
   "outputs": [],
   "source": [
    "# punctuations to be removed from the sentences, from scripts/script_1.py\n",
    "punctuations = [\"''\", \"'\", \"``\", \"`\", \"-LRB-\", \"-RRB-\", \"-LCB-\", \"-RCB-\",\n",
    "  \".\", \"?\", \"!\", \",\", \":\", \"-\", \"--\", \"...\", \";\"] \n",
    "\n",
    "def tokenize_caption(caption):\n",
    "    return [token.lower() for token in word_tokenize(caption) if token not in punctuations]\n",
    "\n",
    "def load_captions(annotations_path, dataset):\n",
    "    annotations_json = annotations_path.joinpath('captions_{}2014.json'.format(dataset)).read_text()\n",
    "    annotations = json.loads(annotations_json)\n",
    "    captions = defaultdict(lambda: [])\n",
    "    for c in annotations['annotations']:\n",
    "        captions[c['image_id']].append(tokenize_caption(c['caption']))\n",
    "    return captions\n",
    "\n",
    "def load_batch(batches_path, captions_dict, batch_id):\n",
    "    batch_path = batches_path.joinpath('batch{}.npz'.format(batch_id))\n",
    "    npzfile = np.load(batch_path)\n",
    "    ids = sorted(int(key) for key in npzfile.keys())\n",
    "    data_batch = [npzfile[str(id_)] for id_ in ids]\n",
    "    npzfile.close()\n",
    "    captions_batch = [captions_dict[id_] for id_ in ids]\n",
    "    return data_batch, captions_batch\n",
    "\n",
    "def load_data(data_path, dataset):\n",
    "    batches_path = data_path.joinpath(dataset)\n",
    "    captions_dict = load_captions(annotations_path, dataset)\n",
    "    num_batches = sum(1 for _ in batches_path.glob('*.npz'))\n",
    "    data_batches, captions_batches = zip(*[load_batch(batches_path, captions_dict, batch_id)\n",
    "                                           for batch_id in range(num_batches)])\n",
    "    data = np.asarray(list(chain.from_iterable((data_batches))))\n",
    "    captions = list(chain.from_iterable(captions_batches))\n",
    "    return data, captions"
   ]
  },
  {
   "cell_type": "code",
   "execution_count": 4,
   "metadata": {},
   "outputs": [],
   "source": [
    "def voc(captions_train):\n",
    "    vocabulary_set = set()\n",
    "    for tcaptions_lists in captions_train:\n",
    "        for tcaption in tcaptions_lists:\n",
    "            vocabulary_set.update(tcaption)\n",
    "    vocabulary = sorted(vocabulary_set)\n",
    "\n",
    "    vocabulary += ['<start>', '<end>', '<UNK>']\n",
    "    word_to_ix = {word: i for i, word in enumerate(vocabulary)}\n",
    "    return vocabulary, word_to_ix\n",
    "\n",
    "def encode_captions(captions, word_to_ix):\n",
    "    unknown_ix = word_to_ix['<UNK>']\n",
    "    encoded_captions = np.ones((data_train.shape[0], num_captions_per_example, max_len_caption), dtype=int) * word_to_ix['<end>']\n",
    "    encoded_captions[:, :, 0] = word_to_ix['<start>']\n",
    "    caption_lengths = np.zeros((data_train.shape[0], num_captions_per_example), dtype=int)\n",
    "    for i, tcaption_list in enumerate(captions):\n",
    "        for j in range(num_captions_per_example):\n",
    "            tcaption = tcaption_list[j]\n",
    "            caption_lengths[i, j] = len(tcaption) + 2 # num words + attrs + <start>\n",
    "            for k, word in enumerate(tcaption):\n",
    "                encoded_captions[i, j, k+1] = word_to_ix.get(word, unknown_ix)\n",
    "    return encoded_captions, caption_lengths"
   ]
  },
  {
   "cell_type": "code",
   "execution_count": 214,
   "metadata": {},
   "outputs": [
    {
     "data": {
      "text/plain": [
       "array([[9576, 1725, 5576, ..., 9577, 9577, 9577],\n",
       "       [9576,   89, 3565, ..., 9577, 9577, 9577],\n",
       "       [9576,   89, 3252, ..., 9577, 9577, 9577],\n",
       "       ..., \n",
       "       [9576, 1623, 1118, ..., 9577, 9577, 9577],\n",
       "       [9576,   89, 4609, ...,  780, 4345, 9577],\n",
       "       [9576,   89, 4490, ..., 9577, 9577, 9577]])"
      ]
     },
     "execution_count": 214,
     "metadata": {},
     "output_type": "execute_result"
    }
   ],
   "source": [
    "enc_captions_train"
   ]
  },
  {
   "cell_type": "code",
   "execution_count": 5,
   "metadata": {},
   "outputs": [],
   "source": [
    "num_captions_per_example = 5\n",
    "max_len_caption = 60\n",
    "\n",
    "data_train, captions_train = load_data(data_path, 'train')\n",
    "\n",
    "vocabulary, word_to_ix = voc(captions_train)\n",
    "enc_captions_train, caption_lengths_train = encode_captions(captions_train, word_to_ix)\n",
    "\n",
    "# Keep one caption per example for now\n",
    "enc_captions_train = enc_captions_train[:, 0, :]\n",
    "caption_lengths_train = caption_lengths_train[:, 0]\n",
    "\n",
    "max_size_caption = 15\n",
    "if max_size_caption is not None:\n",
    "    max_len_caption = max_size_caption\n",
    "    captions_to_keep = caption_lengths_train <= max_size_caption\n",
    "    enc_captions_train = enc_captions_train[captions_to_keep][:, :max_size_caption]\n",
    "    caption_lengths_train = caption_lengths_train[captions_to_keep]\n",
    "    data_train = data_train[captions_to_keep]"
   ]
  },
  {
   "cell_type": "code",
   "execution_count": 204,
   "metadata": {},
   "outputs": [
    {
     "data": {
      "text/plain": [
       "(8475, 15)"
      ]
     },
     "execution_count": 204,
     "metadata": {},
     "output_type": "execute_result"
    }
   ],
   "source": [
    "enc_captions_train.shape"
   ]
  },
  {
   "cell_type": "code",
   "execution_count": 157,
   "metadata": {},
   "outputs": [
    {
     "data": {
      "text/plain": [
       "(9175, 60)"
      ]
     },
     "execution_count": 157,
     "metadata": {},
     "output_type": "execute_result"
    }
   ],
   "source": [
    "enc_captions_train.shape"
   ]
  },
  {
   "cell_type": "code",
   "execution_count": 6,
   "metadata": {
    "scrolled": true
   },
   "outputs": [],
   "source": [
    "embedding_dim = 10\n",
    "voc_dim = len(vocabulary)"
   ]
  },
  {
   "cell_type": "code",
   "execution_count": 7,
   "metadata": {},
   "outputs": [],
   "source": [
    "new_attr_size = 100\n",
    "if new_attr_size is not None:\n",
    "    data_train = data_train[:, :new_attr_size]"
   ]
  },
  {
   "cell_type": "code",
   "execution_count": 8,
   "metadata": {},
   "outputs": [
    {
     "data": {
      "text/plain": [
       "(8475, 100)"
      ]
     },
     "execution_count": 8,
     "metadata": {},
     "output_type": "execute_result"
    }
   ],
   "source": [
    "data_train.shape"
   ]
  },
  {
   "cell_type": "code",
   "execution_count": 47,
   "metadata": {},
   "outputs": [],
   "source": [
    "tf.reset_default_graph()\n",
    "\n",
    "attrs_dim = data_train.shape[1]\n",
    "attrs = tf.placeholder(tf.float32, [None, attrs_dim])\n",
    "Ta = tf.get_variable('Ta',\n",
    "                     shape=[attrs_dim, embedding_dim],\n",
    "                     initializer=tf.random_normal_initializer())\n",
    "xm1 = tf.matmul(attrs, Ta) # x^{-1}\n",
    "\n",
    "captions = tf.placeholder(tf.int32, [None, max_len_caption])\n",
    "caption_1_hot = tf.one_hot(indices=captions,\n",
    "                           depth=voc_dim,\n",
    "                           axis=-1)\n",
    "Ts = tf.get_variable('Ts',\n",
    "                     shape=[voc_dim, embedding_dim],\n",
    "                     initializer=tf.random_normal_initializer())\n",
    "\n",
    "c1hr = tf.reshape(caption_1_hot, [-1, voc_dim])\n",
    "xr = tf.matmul(c1hr, Ts)\n",
    "x = tf.reshape(xr, [-1, max_len_caption, embedding_dim])\n",
    "xs = tf.split(x, max_len_caption, axis=1)\n",
    "xs = [tf.reshape(xsi, [-1, embedding_dim]) for xsi in xs]\n",
    "\n",
    "lstm_cell = tf.nn.rnn_cell.BasicLSTMCell(num_units=voc_dim)\n",
    "\n",
    "inputs = tf.stack([xm1] + xs[:-1], axis=1)\n",
    "\n",
    "captions_l = tf.placeholder(tf.int32, [None])\n",
    "outputs, _ = tf.nn.dynamic_rnn(lstm_cell,\n",
    "                               inputs=inputs,\n",
    "                               dtype=tf.float32,\n",
    "                               sequence_length=captions_l,\n",
    "                               parallel_iterations=1,\n",
    "                               swap_memory=True)\n",
    "\n",
    "cost = tf.reduce_mean(tf.nn.sparse_softmax_cross_entropy_with_logits(logits=outputs, labels=captions))\n",
    "optimizer = tf.train.GradientDescentOptimizer(learning_rate=0.01)\n",
    "train = optimizer.minimize(cost)"
   ]
  },
  {
   "cell_type": "code",
   "execution_count": 48,
   "metadata": {},
   "outputs": [
    {
     "ename": "ResourceExhaustedError",
     "evalue": "OOM when allocating tensor with shape[38316]\n\t [[Node: rnn/basic_lstm_cell/bias/Assign = Assign[T=DT_FLOAT, _class=[\"loc:@rnn/basic_lstm_cell/bias\"], use_locking=true, validate_shape=true, _device=\"/job:localhost/replica:0/task:0/device:GPU:0\"](rnn/basic_lstm_cell/bias, rnn/basic_lstm_cell/bias/Initializer/Const)]]\n\nCaused by op 'rnn/basic_lstm_cell/bias/Assign', defined at:\n  File \"/usr/lib64/python3.6/runpy.py\", line 193, in _run_module_as_main\n    \"__main__\", mod_spec)\n  File \"/usr/lib64/python3.6/runpy.py\", line 85, in _run_code\n    exec(code, run_globals)\n  File \"/home/ilai/Desktop/env/lib/python3.6/site-packages/ipykernel_launcher.py\", line 16, in <module>\n    app.launch_new_instance()\n  File \"/home/ilai/Desktop/env/lib/python3.6/site-packages/traitlets/config/application.py\", line 658, in launch_instance\n    app.start()\n  File \"/home/ilai/Desktop/env/lib/python3.6/site-packages/ipykernel/kernelapp.py\", line 477, in start\n    ioloop.IOLoop.instance().start()\n  File \"/home/ilai/Desktop/env/lib/python3.6/site-packages/zmq/eventloop/ioloop.py\", line 177, in start\n    super(ZMQIOLoop, self).start()\n  File \"/home/ilai/Desktop/env/lib/python3.6/site-packages/tornado/ioloop.py\", line 888, in start\n    handler_func(fd_obj, events)\n  File \"/home/ilai/Desktop/env/lib/python3.6/site-packages/tornado/stack_context.py\", line 277, in null_wrapper\n    return fn(*args, **kwargs)\n  File \"/home/ilai/Desktop/env/lib/python3.6/site-packages/zmq/eventloop/zmqstream.py\", line 440, in _handle_events\n    self._handle_recv()\n  File \"/home/ilai/Desktop/env/lib/python3.6/site-packages/zmq/eventloop/zmqstream.py\", line 472, in _handle_recv\n    self._run_callback(callback, msg)\n  File \"/home/ilai/Desktop/env/lib/python3.6/site-packages/zmq/eventloop/zmqstream.py\", line 414, in _run_callback\n    callback(*args, **kwargs)\n  File \"/home/ilai/Desktop/env/lib/python3.6/site-packages/tornado/stack_context.py\", line 277, in null_wrapper\n    return fn(*args, **kwargs)\n  File \"/home/ilai/Desktop/env/lib/python3.6/site-packages/ipykernel/kernelbase.py\", line 283, in dispatcher\n    return self.dispatch_shell(stream, msg)\n  File \"/home/ilai/Desktop/env/lib/python3.6/site-packages/ipykernel/kernelbase.py\", line 235, in dispatch_shell\n    handler(stream, idents, msg)\n  File \"/home/ilai/Desktop/env/lib/python3.6/site-packages/ipykernel/kernelbase.py\", line 399, in execute_request\n    user_expressions, allow_stdin)\n  File \"/home/ilai/Desktop/env/lib/python3.6/site-packages/ipykernel/ipkernel.py\", line 196, in do_execute\n    res = shell.run_cell(code, store_history=store_history, silent=silent)\n  File \"/home/ilai/Desktop/env/lib/python3.6/site-packages/ipykernel/zmqshell.py\", line 533, in run_cell\n    return super(ZMQInteractiveShell, self).run_cell(*args, **kwargs)\n  File \"/home/ilai/Desktop/env/lib/python3.6/site-packages/IPython/core/interactiveshell.py\", line 2728, in run_cell\n    interactivity=interactivity, compiler=compiler, result=result)\n  File \"/home/ilai/Desktop/env/lib/python3.6/site-packages/IPython/core/interactiveshell.py\", line 2850, in run_ast_nodes\n    if self.run_code(code, result):\n  File \"/home/ilai/Desktop/env/lib/python3.6/site-packages/IPython/core/interactiveshell.py\", line 2910, in run_code\n    exec(code_obj, self.user_global_ns, self.user_ns)\n  File \"<ipython-input-47-761f68539482>\", line 34, in <module>\n    swap_memory=True)\n  File \"/home/ilai/Desktop/env/lib/python3.6/site-packages/tensorflow/python/ops/rnn.py\", line 614, in dynamic_rnn\n    dtype=dtype)\n  File \"/home/ilai/Desktop/env/lib/python3.6/site-packages/tensorflow/python/ops/rnn.py\", line 777, in _dynamic_rnn_loop\n    swap_memory=swap_memory)\n  File \"/home/ilai/Desktop/env/lib/python3.6/site-packages/tensorflow/python/ops/control_flow_ops.py\", line 2816, in while_loop\n    result = loop_context.BuildLoop(cond, body, loop_vars, shape_invariants)\n  File \"/home/ilai/Desktop/env/lib/python3.6/site-packages/tensorflow/python/ops/control_flow_ops.py\", line 2640, in BuildLoop\n    pred, body, original_loop_vars, loop_vars, shape_invariants)\n  File \"/home/ilai/Desktop/env/lib/python3.6/site-packages/tensorflow/python/ops/control_flow_ops.py\", line 2590, in _BuildLoop\n    body_result = body(*packed_vars_for_body)\n  File \"/home/ilai/Desktop/env/lib/python3.6/site-packages/tensorflow/python/ops/rnn.py\", line 760, in _time_step\n    skip_conditionals=True)\n  File \"/home/ilai/Desktop/env/lib/python3.6/site-packages/tensorflow/python/ops/rnn.py\", line 236, in _rnn_step\n    new_output, new_state = call_cell()\n  File \"/home/ilai/Desktop/env/lib/python3.6/site-packages/tensorflow/python/ops/rnn.py\", line 748, in <lambda>\n    call_cell = lambda: cell(input_t, state)\n  File \"/home/ilai/Desktop/env/lib/python3.6/site-packages/tensorflow/python/ops/rnn_cell_impl.py\", line 183, in __call__\n    return super(RNNCell, self).__call__(inputs, state)\n  File \"/home/ilai/Desktop/env/lib/python3.6/site-packages/tensorflow/python/layers/base.py\", line 575, in __call__\n    outputs = self.call(inputs, *args, **kwargs)\n  File \"/home/ilai/Desktop/env/lib/python3.6/site-packages/tensorflow/python/ops/rnn_cell_impl.py\", line 438, in call\n    self._linear = _Linear([inputs, h], 4 * self._num_units, True)\n  File \"/home/ilai/Desktop/env/lib/python3.6/site-packages/tensorflow/python/ops/rnn_cell_impl.py\", line 1180, in __init__\n    initializer=bias_initializer)\n  File \"/home/ilai/Desktop/env/lib/python3.6/site-packages/tensorflow/python/ops/variable_scope.py\", line 1203, in get_variable\n    constraint=constraint)\n  File \"/home/ilai/Desktop/env/lib/python3.6/site-packages/tensorflow/python/ops/variable_scope.py\", line 1092, in get_variable\n    constraint=constraint)\n  File \"/home/ilai/Desktop/env/lib/python3.6/site-packages/tensorflow/python/ops/variable_scope.py\", line 417, in get_variable\n    return custom_getter(**custom_getter_kwargs)\n  File \"/home/ilai/Desktop/env/lib/python3.6/site-packages/tensorflow/python/ops/rnn_cell_impl.py\", line 186, in _rnn_get_variable\n    variable = getter(*args, **kwargs)\n  File \"/home/ilai/Desktop/env/lib/python3.6/site-packages/tensorflow/python/ops/variable_scope.py\", line 394, in _true_getter\n    use_resource=use_resource, constraint=constraint)\n  File \"/home/ilai/Desktop/env/lib/python3.6/site-packages/tensorflow/python/ops/variable_scope.py\", line 805, in _get_single_variable\n    constraint=constraint)\n  File \"/home/ilai/Desktop/env/lib/python3.6/site-packages/tensorflow/python/ops/variables.py\", line 213, in __init__\n    constraint=constraint)\n  File \"/home/ilai/Desktop/env/lib/python3.6/site-packages/tensorflow/python/ops/variables.py\", line 346, in _init_from_args\n    validate_shape=validate_shape).op\n  File \"/home/ilai/Desktop/env/lib/python3.6/site-packages/tensorflow/python/ops/state_ops.py\", line 276, in assign\n    validate_shape=validate_shape)\n  File \"/home/ilai/Desktop/env/lib/python3.6/site-packages/tensorflow/python/ops/gen_state_ops.py\", line 57, in assign\n    use_locking=use_locking, name=name)\n  File \"/home/ilai/Desktop/env/lib/python3.6/site-packages/tensorflow/python/framework/op_def_library.py\", line 787, in _apply_op_helper\n    op_def=op_def)\n  File \"/home/ilai/Desktop/env/lib/python3.6/site-packages/tensorflow/python/framework/ops.py\", line 2956, in create_op\n    op_def=op_def)\n  File \"/home/ilai/Desktop/env/lib/python3.6/site-packages/tensorflow/python/framework/ops.py\", line 1470, in __init__\n    self._traceback = self._graph._extract_stack()  # pylint: disable=protected-access\n\nResourceExhaustedError (see above for traceback): OOM when allocating tensor with shape[38316]\n\t [[Node: rnn/basic_lstm_cell/bias/Assign = Assign[T=DT_FLOAT, _class=[\"loc:@rnn/basic_lstm_cell/bias\"], use_locking=true, validate_shape=true, _device=\"/job:localhost/replica:0/task:0/device:GPU:0\"](rnn/basic_lstm_cell/bias, rnn/basic_lstm_cell/bias/Initializer/Const)]]\n",
     "output_type": "error",
     "traceback": [
      "\u001b[0;31m---------------------------------------------------------------------------\u001b[0m",
      "\u001b[0;31mResourceExhaustedError\u001b[0m                    Traceback (most recent call last)",
      "\u001b[0;32m~/Desktop/env/lib/python3.6/site-packages/tensorflow/python/client/session.py\u001b[0m in \u001b[0;36m_do_call\u001b[0;34m(self, fn, *args)\u001b[0m\n\u001b[1;32m   1322\u001b[0m     \u001b[0;32mtry\u001b[0m\u001b[0;34m:\u001b[0m\u001b[0;34m\u001b[0m\u001b[0m\n\u001b[0;32m-> 1323\u001b[0;31m       \u001b[0;32mreturn\u001b[0m \u001b[0mfn\u001b[0m\u001b[0;34m(\u001b[0m\u001b[0;34m*\u001b[0m\u001b[0margs\u001b[0m\u001b[0;34m)\u001b[0m\u001b[0;34m\u001b[0m\u001b[0m\n\u001b[0m\u001b[1;32m   1324\u001b[0m     \u001b[0;32mexcept\u001b[0m \u001b[0merrors\u001b[0m\u001b[0;34m.\u001b[0m\u001b[0mOpError\u001b[0m \u001b[0;32mas\u001b[0m \u001b[0me\u001b[0m\u001b[0;34m:\u001b[0m\u001b[0;34m\u001b[0m\u001b[0m\n",
      "\u001b[0;32m~/Desktop/env/lib/python3.6/site-packages/tensorflow/python/client/session.py\u001b[0m in \u001b[0;36m_run_fn\u001b[0;34m(session, feed_dict, fetch_list, target_list, options, run_metadata)\u001b[0m\n\u001b[1;32m   1301\u001b[0m                                    \u001b[0mfeed_dict\u001b[0m\u001b[0;34m,\u001b[0m \u001b[0mfetch_list\u001b[0m\u001b[0;34m,\u001b[0m \u001b[0mtarget_list\u001b[0m\u001b[0;34m,\u001b[0m\u001b[0;34m\u001b[0m\u001b[0m\n\u001b[0;32m-> 1302\u001b[0;31m                                    status, run_metadata)\n\u001b[0m\u001b[1;32m   1303\u001b[0m \u001b[0;34m\u001b[0m\u001b[0m\n",
      "\u001b[0;32m~/Desktop/env/lib/python3.6/site-packages/tensorflow/python/framework/errors_impl.py\u001b[0m in \u001b[0;36m__exit__\u001b[0;34m(self, type_arg, value_arg, traceback_arg)\u001b[0m\n\u001b[1;32m    472\u001b[0m             \u001b[0mcompat\u001b[0m\u001b[0;34m.\u001b[0m\u001b[0mas_text\u001b[0m\u001b[0;34m(\u001b[0m\u001b[0mc_api\u001b[0m\u001b[0;34m.\u001b[0m\u001b[0mTF_Message\u001b[0m\u001b[0;34m(\u001b[0m\u001b[0mself\u001b[0m\u001b[0;34m.\u001b[0m\u001b[0mstatus\u001b[0m\u001b[0;34m.\u001b[0m\u001b[0mstatus\u001b[0m\u001b[0;34m)\u001b[0m\u001b[0;34m)\u001b[0m\u001b[0;34m,\u001b[0m\u001b[0;34m\u001b[0m\u001b[0m\n\u001b[0;32m--> 473\u001b[0;31m             c_api.TF_GetCode(self.status.status))\n\u001b[0m\u001b[1;32m    474\u001b[0m     \u001b[0;31m# Delete the underlying status object from memory otherwise it stays alive\u001b[0m\u001b[0;34m\u001b[0m\u001b[0;34m\u001b[0m\u001b[0m\n",
      "\u001b[0;31mResourceExhaustedError\u001b[0m: OOM when allocating tensor with shape[38316]\n\t [[Node: rnn/basic_lstm_cell/bias/Assign = Assign[T=DT_FLOAT, _class=[\"loc:@rnn/basic_lstm_cell/bias\"], use_locking=true, validate_shape=true, _device=\"/job:localhost/replica:0/task:0/device:GPU:0\"](rnn/basic_lstm_cell/bias, rnn/basic_lstm_cell/bias/Initializer/Const)]]",
      "\nDuring handling of the above exception, another exception occurred:\n",
      "\u001b[0;31mResourceExhaustedError\u001b[0m                    Traceback (most recent call last)",
      "\u001b[0;32m<ipython-input-48-3715c8715d78>\u001b[0m in \u001b[0;36m<module>\u001b[0;34m()\u001b[0m\n\u001b[1;32m      3\u001b[0m \u001b[0msess\u001b[0m \u001b[0;34m=\u001b[0m \u001b[0mtf\u001b[0m\u001b[0;34m.\u001b[0m\u001b[0mSession\u001b[0m\u001b[0;34m(\u001b[0m\u001b[0;34m)\u001b[0m\u001b[0;34m\u001b[0m\u001b[0m\n\u001b[1;32m      4\u001b[0m \u001b[0minit\u001b[0m \u001b[0;34m=\u001b[0m \u001b[0mtf\u001b[0m\u001b[0;34m.\u001b[0m\u001b[0mglobal_variables_initializer\u001b[0m\u001b[0;34m(\u001b[0m\u001b[0;34m)\u001b[0m\u001b[0;34m\u001b[0m\u001b[0m\n\u001b[0;32m----> 5\u001b[0;31m \u001b[0msess\u001b[0m\u001b[0;34m.\u001b[0m\u001b[0mrun\u001b[0m\u001b[0;34m(\u001b[0m\u001b[0minit\u001b[0m\u001b[0;34m)\u001b[0m\u001b[0;34m\u001b[0m\u001b[0m\n\u001b[0m\u001b[1;32m      6\u001b[0m _, cost_, outputs_ = sess.run([train, cost, outputs],\n\u001b[1;32m      7\u001b[0m                feed_dict={captions: enc_captions_train[:batch_size],\n",
      "\u001b[0;32m~/Desktop/env/lib/python3.6/site-packages/tensorflow/python/client/session.py\u001b[0m in \u001b[0;36mrun\u001b[0;34m(self, fetches, feed_dict, options, run_metadata)\u001b[0m\n\u001b[1;32m    887\u001b[0m     \u001b[0;32mtry\u001b[0m\u001b[0;34m:\u001b[0m\u001b[0;34m\u001b[0m\u001b[0m\n\u001b[1;32m    888\u001b[0m       result = self._run(None, fetches, feed_dict, options_ptr,\n\u001b[0;32m--> 889\u001b[0;31m                          run_metadata_ptr)\n\u001b[0m\u001b[1;32m    890\u001b[0m       \u001b[0;32mif\u001b[0m \u001b[0mrun_metadata\u001b[0m\u001b[0;34m:\u001b[0m\u001b[0;34m\u001b[0m\u001b[0m\n\u001b[1;32m    891\u001b[0m         \u001b[0mproto_data\u001b[0m \u001b[0;34m=\u001b[0m \u001b[0mtf_session\u001b[0m\u001b[0;34m.\u001b[0m\u001b[0mTF_GetBuffer\u001b[0m\u001b[0;34m(\u001b[0m\u001b[0mrun_metadata_ptr\u001b[0m\u001b[0;34m)\u001b[0m\u001b[0;34m\u001b[0m\u001b[0m\n",
      "\u001b[0;32m~/Desktop/env/lib/python3.6/site-packages/tensorflow/python/client/session.py\u001b[0m in \u001b[0;36m_run\u001b[0;34m(self, handle, fetches, feed_dict, options, run_metadata)\u001b[0m\n\u001b[1;32m   1118\u001b[0m     \u001b[0;32mif\u001b[0m \u001b[0mfinal_fetches\u001b[0m \u001b[0;32mor\u001b[0m \u001b[0mfinal_targets\u001b[0m \u001b[0;32mor\u001b[0m \u001b[0;34m(\u001b[0m\u001b[0mhandle\u001b[0m \u001b[0;32mand\u001b[0m \u001b[0mfeed_dict_tensor\u001b[0m\u001b[0;34m)\u001b[0m\u001b[0;34m:\u001b[0m\u001b[0;34m\u001b[0m\u001b[0m\n\u001b[1;32m   1119\u001b[0m       results = self._do_run(handle, final_targets, final_fetches,\n\u001b[0;32m-> 1120\u001b[0;31m                              feed_dict_tensor, options, run_metadata)\n\u001b[0m\u001b[1;32m   1121\u001b[0m     \u001b[0;32melse\u001b[0m\u001b[0;34m:\u001b[0m\u001b[0;34m\u001b[0m\u001b[0m\n\u001b[1;32m   1122\u001b[0m       \u001b[0mresults\u001b[0m \u001b[0;34m=\u001b[0m \u001b[0;34m[\u001b[0m\u001b[0;34m]\u001b[0m\u001b[0;34m\u001b[0m\u001b[0m\n",
      "\u001b[0;32m~/Desktop/env/lib/python3.6/site-packages/tensorflow/python/client/session.py\u001b[0m in \u001b[0;36m_do_run\u001b[0;34m(self, handle, target_list, fetch_list, feed_dict, options, run_metadata)\u001b[0m\n\u001b[1;32m   1315\u001b[0m     \u001b[0;32mif\u001b[0m \u001b[0mhandle\u001b[0m \u001b[0;32mis\u001b[0m \u001b[0;32mNone\u001b[0m\u001b[0;34m:\u001b[0m\u001b[0;34m\u001b[0m\u001b[0m\n\u001b[1;32m   1316\u001b[0m       return self._do_call(_run_fn, self._session, feeds, fetches, targets,\n\u001b[0;32m-> 1317\u001b[0;31m                            options, run_metadata)\n\u001b[0m\u001b[1;32m   1318\u001b[0m     \u001b[0;32melse\u001b[0m\u001b[0;34m:\u001b[0m\u001b[0;34m\u001b[0m\u001b[0m\n\u001b[1;32m   1319\u001b[0m       \u001b[0;32mreturn\u001b[0m \u001b[0mself\u001b[0m\u001b[0;34m.\u001b[0m\u001b[0m_do_call\u001b[0m\u001b[0;34m(\u001b[0m\u001b[0m_prun_fn\u001b[0m\u001b[0;34m,\u001b[0m \u001b[0mself\u001b[0m\u001b[0;34m.\u001b[0m\u001b[0m_session\u001b[0m\u001b[0;34m,\u001b[0m \u001b[0mhandle\u001b[0m\u001b[0;34m,\u001b[0m \u001b[0mfeeds\u001b[0m\u001b[0;34m,\u001b[0m \u001b[0mfetches\u001b[0m\u001b[0;34m)\u001b[0m\u001b[0;34m\u001b[0m\u001b[0m\n",
      "\u001b[0;32m~/Desktop/env/lib/python3.6/site-packages/tensorflow/python/client/session.py\u001b[0m in \u001b[0;36m_do_call\u001b[0;34m(self, fn, *args)\u001b[0m\n\u001b[1;32m   1334\u001b[0m         \u001b[0;32mexcept\u001b[0m \u001b[0mKeyError\u001b[0m\u001b[0;34m:\u001b[0m\u001b[0;34m\u001b[0m\u001b[0m\n\u001b[1;32m   1335\u001b[0m           \u001b[0;32mpass\u001b[0m\u001b[0;34m\u001b[0m\u001b[0m\n\u001b[0;32m-> 1336\u001b[0;31m       \u001b[0;32mraise\u001b[0m \u001b[0mtype\u001b[0m\u001b[0;34m(\u001b[0m\u001b[0me\u001b[0m\u001b[0;34m)\u001b[0m\u001b[0;34m(\u001b[0m\u001b[0mnode_def\u001b[0m\u001b[0;34m,\u001b[0m \u001b[0mop\u001b[0m\u001b[0;34m,\u001b[0m \u001b[0mmessage\u001b[0m\u001b[0;34m)\u001b[0m\u001b[0;34m\u001b[0m\u001b[0m\n\u001b[0m\u001b[1;32m   1337\u001b[0m \u001b[0;34m\u001b[0m\u001b[0m\n\u001b[1;32m   1338\u001b[0m   \u001b[0;32mdef\u001b[0m \u001b[0m_extend_graph\u001b[0m\u001b[0;34m(\u001b[0m\u001b[0mself\u001b[0m\u001b[0;34m)\u001b[0m\u001b[0;34m:\u001b[0m\u001b[0;34m\u001b[0m\u001b[0m\n",
      "\u001b[0;31mResourceExhaustedError\u001b[0m: OOM when allocating tensor with shape[38316]\n\t [[Node: rnn/basic_lstm_cell/bias/Assign = Assign[T=DT_FLOAT, _class=[\"loc:@rnn/basic_lstm_cell/bias\"], use_locking=true, validate_shape=true, _device=\"/job:localhost/replica:0/task:0/device:GPU:0\"](rnn/basic_lstm_cell/bias, rnn/basic_lstm_cell/bias/Initializer/Const)]]\n\nCaused by op 'rnn/basic_lstm_cell/bias/Assign', defined at:\n  File \"/usr/lib64/python3.6/runpy.py\", line 193, in _run_module_as_main\n    \"__main__\", mod_spec)\n  File \"/usr/lib64/python3.6/runpy.py\", line 85, in _run_code\n    exec(code, run_globals)\n  File \"/home/ilai/Desktop/env/lib/python3.6/site-packages/ipykernel_launcher.py\", line 16, in <module>\n    app.launch_new_instance()\n  File \"/home/ilai/Desktop/env/lib/python3.6/site-packages/traitlets/config/application.py\", line 658, in launch_instance\n    app.start()\n  File \"/home/ilai/Desktop/env/lib/python3.6/site-packages/ipykernel/kernelapp.py\", line 477, in start\n    ioloop.IOLoop.instance().start()\n  File \"/home/ilai/Desktop/env/lib/python3.6/site-packages/zmq/eventloop/ioloop.py\", line 177, in start\n    super(ZMQIOLoop, self).start()\n  File \"/home/ilai/Desktop/env/lib/python3.6/site-packages/tornado/ioloop.py\", line 888, in start\n    handler_func(fd_obj, events)\n  File \"/home/ilai/Desktop/env/lib/python3.6/site-packages/tornado/stack_context.py\", line 277, in null_wrapper\n    return fn(*args, **kwargs)\n  File \"/home/ilai/Desktop/env/lib/python3.6/site-packages/zmq/eventloop/zmqstream.py\", line 440, in _handle_events\n    self._handle_recv()\n  File \"/home/ilai/Desktop/env/lib/python3.6/site-packages/zmq/eventloop/zmqstream.py\", line 472, in _handle_recv\n    self._run_callback(callback, msg)\n  File \"/home/ilai/Desktop/env/lib/python3.6/site-packages/zmq/eventloop/zmqstream.py\", line 414, in _run_callback\n    callback(*args, **kwargs)\n  File \"/home/ilai/Desktop/env/lib/python3.6/site-packages/tornado/stack_context.py\", line 277, in null_wrapper\n    return fn(*args, **kwargs)\n  File \"/home/ilai/Desktop/env/lib/python3.6/site-packages/ipykernel/kernelbase.py\", line 283, in dispatcher\n    return self.dispatch_shell(stream, msg)\n  File \"/home/ilai/Desktop/env/lib/python3.6/site-packages/ipykernel/kernelbase.py\", line 235, in dispatch_shell\n    handler(stream, idents, msg)\n  File \"/home/ilai/Desktop/env/lib/python3.6/site-packages/ipykernel/kernelbase.py\", line 399, in execute_request\n    user_expressions, allow_stdin)\n  File \"/home/ilai/Desktop/env/lib/python3.6/site-packages/ipykernel/ipkernel.py\", line 196, in do_execute\n    res = shell.run_cell(code, store_history=store_history, silent=silent)\n  File \"/home/ilai/Desktop/env/lib/python3.6/site-packages/ipykernel/zmqshell.py\", line 533, in run_cell\n    return super(ZMQInteractiveShell, self).run_cell(*args, **kwargs)\n  File \"/home/ilai/Desktop/env/lib/python3.6/site-packages/IPython/core/interactiveshell.py\", line 2728, in run_cell\n    interactivity=interactivity, compiler=compiler, result=result)\n  File \"/home/ilai/Desktop/env/lib/python3.6/site-packages/IPython/core/interactiveshell.py\", line 2850, in run_ast_nodes\n    if self.run_code(code, result):\n  File \"/home/ilai/Desktop/env/lib/python3.6/site-packages/IPython/core/interactiveshell.py\", line 2910, in run_code\n    exec(code_obj, self.user_global_ns, self.user_ns)\n  File \"<ipython-input-47-761f68539482>\", line 34, in <module>\n    swap_memory=True)\n  File \"/home/ilai/Desktop/env/lib/python3.6/site-packages/tensorflow/python/ops/rnn.py\", line 614, in dynamic_rnn\n    dtype=dtype)\n  File \"/home/ilai/Desktop/env/lib/python3.6/site-packages/tensorflow/python/ops/rnn.py\", line 777, in _dynamic_rnn_loop\n    swap_memory=swap_memory)\n  File \"/home/ilai/Desktop/env/lib/python3.6/site-packages/tensorflow/python/ops/control_flow_ops.py\", line 2816, in while_loop\n    result = loop_context.BuildLoop(cond, body, loop_vars, shape_invariants)\n  File \"/home/ilai/Desktop/env/lib/python3.6/site-packages/tensorflow/python/ops/control_flow_ops.py\", line 2640, in BuildLoop\n    pred, body, original_loop_vars, loop_vars, shape_invariants)\n  File \"/home/ilai/Desktop/env/lib/python3.6/site-packages/tensorflow/python/ops/control_flow_ops.py\", line 2590, in _BuildLoop\n    body_result = body(*packed_vars_for_body)\n  File \"/home/ilai/Desktop/env/lib/python3.6/site-packages/tensorflow/python/ops/rnn.py\", line 760, in _time_step\n    skip_conditionals=True)\n  File \"/home/ilai/Desktop/env/lib/python3.6/site-packages/tensorflow/python/ops/rnn.py\", line 236, in _rnn_step\n    new_output, new_state = call_cell()\n  File \"/home/ilai/Desktop/env/lib/python3.6/site-packages/tensorflow/python/ops/rnn.py\", line 748, in <lambda>\n    call_cell = lambda: cell(input_t, state)\n  File \"/home/ilai/Desktop/env/lib/python3.6/site-packages/tensorflow/python/ops/rnn_cell_impl.py\", line 183, in __call__\n    return super(RNNCell, self).__call__(inputs, state)\n  File \"/home/ilai/Desktop/env/lib/python3.6/site-packages/tensorflow/python/layers/base.py\", line 575, in __call__\n    outputs = self.call(inputs, *args, **kwargs)\n  File \"/home/ilai/Desktop/env/lib/python3.6/site-packages/tensorflow/python/ops/rnn_cell_impl.py\", line 438, in call\n    self._linear = _Linear([inputs, h], 4 * self._num_units, True)\n  File \"/home/ilai/Desktop/env/lib/python3.6/site-packages/tensorflow/python/ops/rnn_cell_impl.py\", line 1180, in __init__\n    initializer=bias_initializer)\n  File \"/home/ilai/Desktop/env/lib/python3.6/site-packages/tensorflow/python/ops/variable_scope.py\", line 1203, in get_variable\n    constraint=constraint)\n  File \"/home/ilai/Desktop/env/lib/python3.6/site-packages/tensorflow/python/ops/variable_scope.py\", line 1092, in get_variable\n    constraint=constraint)\n  File \"/home/ilai/Desktop/env/lib/python3.6/site-packages/tensorflow/python/ops/variable_scope.py\", line 417, in get_variable\n    return custom_getter(**custom_getter_kwargs)\n  File \"/home/ilai/Desktop/env/lib/python3.6/site-packages/tensorflow/python/ops/rnn_cell_impl.py\", line 186, in _rnn_get_variable\n    variable = getter(*args, **kwargs)\n  File \"/home/ilai/Desktop/env/lib/python3.6/site-packages/tensorflow/python/ops/variable_scope.py\", line 394, in _true_getter\n    use_resource=use_resource, constraint=constraint)\n  File \"/home/ilai/Desktop/env/lib/python3.6/site-packages/tensorflow/python/ops/variable_scope.py\", line 805, in _get_single_variable\n    constraint=constraint)\n  File \"/home/ilai/Desktop/env/lib/python3.6/site-packages/tensorflow/python/ops/variables.py\", line 213, in __init__\n    constraint=constraint)\n  File \"/home/ilai/Desktop/env/lib/python3.6/site-packages/tensorflow/python/ops/variables.py\", line 346, in _init_from_args\n    validate_shape=validate_shape).op\n  File \"/home/ilai/Desktop/env/lib/python3.6/site-packages/tensorflow/python/ops/state_ops.py\", line 276, in assign\n    validate_shape=validate_shape)\n  File \"/home/ilai/Desktop/env/lib/python3.6/site-packages/tensorflow/python/ops/gen_state_ops.py\", line 57, in assign\n    use_locking=use_locking, name=name)\n  File \"/home/ilai/Desktop/env/lib/python3.6/site-packages/tensorflow/python/framework/op_def_library.py\", line 787, in _apply_op_helper\n    op_def=op_def)\n  File \"/home/ilai/Desktop/env/lib/python3.6/site-packages/tensorflow/python/framework/ops.py\", line 2956, in create_op\n    op_def=op_def)\n  File \"/home/ilai/Desktop/env/lib/python3.6/site-packages/tensorflow/python/framework/ops.py\", line 1470, in __init__\n    self._traceback = self._graph._extract_stack()  # pylint: disable=protected-access\n\nResourceExhaustedError (see above for traceback): OOM when allocating tensor with shape[38316]\n\t [[Node: rnn/basic_lstm_cell/bias/Assign = Assign[T=DT_FLOAT, _class=[\"loc:@rnn/basic_lstm_cell/bias\"], use_locking=true, validate_shape=true, _device=\"/job:localhost/replica:0/task:0/device:GPU:0\"](rnn/basic_lstm_cell/bias, rnn/basic_lstm_cell/bias/Initializer/Const)]]\n"
     ]
    }
   ],
   "source": [
    "batch_size=1\n",
    "\n",
    "sess = tf.Session()\n",
    "init = tf.global_variables_initializer()\n",
    "sess.run(init)\n",
    "_, cost_, outputs_ = sess.run([train, cost, outputs],\n",
    "               feed_dict={captions: enc_captions_train[:batch_size],\n",
    "                          captions_l: caption_lengths_train[:batch_size],\n",
    "                          attrs: data_train[:batch_size]})"
   ]
  },
  {
   "cell_type": "code",
   "execution_count": null,
   "metadata": {},
   "outputs": [],
   "source": [
    "cost_"
   ]
  }
 ],
 "metadata": {
  "kernelspec": {
   "display_name": "Python 3",
   "language": "python",
   "name": "python3"
  },
  "language_info": {
   "codemirror_mode": {
    "name": "ipython",
    "version": 3
   },
   "file_extension": ".py",
   "mimetype": "text/x-python",
   "name": "python",
   "nbconvert_exporter": "python",
   "pygments_lexer": "ipython3",
   "version": "3.6.3"
  }
 },
 "nbformat": 4,
 "nbformat_minor": 2
}
