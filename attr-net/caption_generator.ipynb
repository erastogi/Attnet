{
 "cells": [
  {
   "cell_type": "code",
   "execution_count": 31,
   "metadata": {},
   "outputs": [],
   "source": [
    "from collections import defaultdict\n",
    "from datetime import datetime\n",
    "from itertools import chain\n",
    "import json\n",
    "import glob\n",
    "import tensorflow as tf\n",
    "from nltk import word_tokenize\n",
    "import numpy as np\n",
    "import os"
   ]
  },
  {
   "cell_type": "code",
   "execution_count": 23,
   "metadata": {},
   "outputs": [],
   "source": [
    "data_path = '/Users/kevinhchon/Documents/11-777/11777-GAN-image-description/attr-net/preprocessing'\n",
    "weight_path = '/Users/kevinhchon/Documents/11-777/11777-GAN-image-description/attr-net/model.ckpt'\n",
    "summaries_path = '/Users/kevinhchon/Documents/11-777/11777-GAN-image-description/attr-net/summaries'\n",
    "visual_concepts_path = '/Users/kevinhchon/Documents/11-777/data/'\n",
    "annotations_path = visual_concepts_path + 'annotations'"
   ]
  },
  {
   "cell_type": "code",
   "execution_count": 3,
   "metadata": {},
   "outputs": [],
   "source": [
    "# punctuations to be removed from the sentences, from scripts/script_1.py\n",
    "punctuations = [\"''\", \"'\", \"``\", \"`\", \"-LRB-\", \"-RRB-\", \"-LCB-\", \"-RCB-\",\n",
    "  \".\", \"?\", \"!\", \",\", \":\", \"-\", \"--\", \"...\", \";\"] \n",
    "\n",
    "def tokenize_caption(caption):\n",
    "    return [token.lower() for token in word_tokenize(caption) if token not in punctuations]\n",
    "\n",
    "def load_captions(annotations_path, dataset):\n",
    "    annotations_json_path = annotations_path + '/captions_{}2014.json'.format(dataset)\n",
    "    with open(annotations_json_path, 'r') as annotations_file:\n",
    "        annotations_json = annotations_file.read()\n",
    "    annotations = json.loads(annotations_json)\n",
    "    captions = defaultdict(lambda: [])\n",
    "    for c in annotations['annotations']:\n",
    "        captions[c['image_id']].append(tokenize_caption(c['caption']))\n",
    "    return captions\n",
    "\n",
    "def load_batch(batches_path, captions_dict, batch_id):\n",
    "    batch_json_path = batches_path + '/batch{}.npz'.format(batch_id)\n",
    "    npzfile = np.load(batch_json_path)\n",
    "    ids = sorted(int(key) for key in npzfile.keys())\n",
    "    data_batch = [npzfile[str(id_)] for id_ in ids]\n",
    "    npzfile.close()\n",
    "    captions_batch = [captions_dict[id_] for id_ in ids]\n",
    "    return data_batch, captions_batch\n",
    "\n",
    "def load_data(data_path, dataset):\n",
    "    batches_path = data_path + '/' + dataset\n",
    "    captions_dict = load_captions(annotations_path, dataset)\n",
    "    num_batches = len([f for f in os.listdir(batches_path)])\n",
    "    #num_batches = sum(1 for _ in batches_path.glob('*.npz'))\n",
    "    data_batches, captions_batches = zip(*[load_batch(batches_path, captions_dict, batch_id)\n",
    "                                           for batch_id in range(num_batches)])\n",
    "    data = np.asarray(list(chain.from_iterable((data_batches))))\n",
    "    captions = list(chain.from_iterable(captions_batches))\n",
    "    return data, captions"
   ]
  },
  {
   "cell_type": "code",
   "execution_count": 4,
   "metadata": {},
   "outputs": [],
   "source": [
    "def voc(captions_train):\n",
    "    vocabulary_set = set()\n",
    "    for tcaptions_lists in captions_train:\n",
    "        for tcaption in tcaptions_lists:\n",
    "            vocabulary_set.update(tcaption)\n",
    "    vocabulary = sorted(vocabulary_set)\n",
    "\n",
    "    vocabulary += ['<start>', '<end>', '<UNK>']\n",
    "    word_to_ix = {word: i for i, word in enumerate(vocabulary)}\n",
    "    return np.asarray(vocabulary), word_to_ix\n",
    "\n",
    "def encode_captions(captions, word_to_ix):\n",
    "    unknown_ix = word_to_ix['<UNK>']\n",
    "    encoded_captions = np.ones((data_train.shape[0], num_captions_per_example, max_len_caption), dtype=int) * word_to_ix['<end>']\n",
    "    encoded_captions[:, :, 0] = word_to_ix['<start>']\n",
    "    caption_lengths = np.zeros((data_train.shape[0], num_captions_per_example), dtype=int)\n",
    "    for i, tcaption_list in enumerate(captions):\n",
    "        for j in range(num_captions_per_example):\n",
    "            tcaption = tcaption_list[j]\n",
    "            caption_lengths[i, j] = len(tcaption) + 2 # num words + attrs + <start>\n",
    "            for k, word in enumerate(tcaption):\n",
    "                encoded_captions[i, j, k+1] = word_to_ix.get(word, unknown_ix)\n",
    "    return encoded_captions, caption_lengths"
   ]
  },
  {
   "cell_type": "code",
   "execution_count": 5,
   "metadata": {},
   "outputs": [],
   "source": [
    "num_captions_per_example = 5\n",
    "max_len_caption = 60\n",
    "\n",
    "data_train, captions_train = load_data(data_path, 'train')\n",
    "\n",
    "vocabulary, word_to_ix = voc(captions_train)\n",
    "enc_captions_train, caption_lengths_train = encode_captions(captions_train, word_to_ix)\n",
    "\n",
    "# Keep one caption per example for now\n",
    "enc_captions_train = enc_captions_train[:, 0, :]\n",
    "caption_lengths_train = caption_lengths_train[:, 0]\n",
    "\n",
    "max_size_caption = 15\n",
    "if max_size_caption is not None:\n",
    "    max_len_caption = max_size_caption\n",
    "    captions_to_keep = caption_lengths_train <= max_size_caption\n",
    "    enc_captions_train = enc_captions_train[captions_to_keep][:, :max_size_caption]\n",
    "    caption_lengths_train = caption_lengths_train[captions_to_keep]\n",
    "    data_train = data_train[captions_to_keep]"
   ]
  },
  {
   "cell_type": "code",
   "execution_count": 7,
   "metadata": {},
   "outputs": [
    {
     "data": {
      "text/plain": [
       "(8475, 15)"
      ]
     },
     "execution_count": 7,
     "metadata": {},
     "output_type": "execute_result"
    }
   ],
   "source": [
    "enc_captions_train.shape"
   ]
  },
  {
   "cell_type": "code",
   "execution_count": 8,
   "metadata": {},
   "outputs": [
    {
     "data": {
      "text/plain": [
       "(8475, 15)"
      ]
     },
     "execution_count": 8,
     "metadata": {},
     "output_type": "execute_result"
    }
   ],
   "source": [
    "enc_captions_train.shape"
   ]
  },
  {
   "cell_type": "code",
   "execution_count": 6,
   "metadata": {
    "scrolled": true
   },
   "outputs": [],
   "source": [
    "embedding_dim = 1024\n",
    "voc_dim = len(vocabulary)"
   ]
  },
  {
   "cell_type": "code",
   "execution_count": 7,
   "metadata": {},
   "outputs": [],
   "source": [
    "new_attr_size = None\n",
    "if new_attr_size is not None:\n",
    "    data_train = data_train[:, :new_attr_size]"
   ]
  },
  {
   "cell_type": "code",
   "execution_count": 11,
   "metadata": {},
   "outputs": [
    {
     "data": {
      "text/plain": [
       "(8475, 1000)"
      ]
     },
     "execution_count": 11,
     "metadata": {},
     "output_type": "execute_result"
    }
   ],
   "source": [
    "data_train.shape"
   ]
  },
  {
   "cell_type": "code",
   "execution_count": 76,
   "metadata": {},
   "outputs": [],
   "source": [
    "tf.reset_default_graph()\n",
    "\n",
    "attrs_dim = data_train.shape[1]\n",
    "attrs = tf.placeholder(tf.float32, [None, attrs_dim], name='attrs')\n",
    "Ta = tf.get_variable('Ta',\n",
    "                     shape=[attrs_dim, embedding_dim],\n",
    "                     initializer=tf.random_normal_initializer())\n",
    "xm1 = tf.matmul(attrs, Ta) # x^{-1}\n",
    "\n",
    "captions = tf.placeholder(tf.int32, [None, max_len_caption], name='training_captions')\n",
    "caption_1_hot = tf.one_hot(indices=captions,\n",
    "                           depth=voc_dim,\n",
    "                           axis=-1)\n",
    "Ts = tf.get_variable('Ts',\n",
    "                     shape=[voc_dim, embedding_dim],\n",
    "                     initializer=tf.random_normal_initializer())\n",
    "\n",
    "c1hr = tf.reshape(caption_1_hot, [-1, voc_dim])\n",
    "xr = tf.matmul(c1hr, Ts)\n",
    "x = tf.reshape(xr, [-1, max_len_caption, embedding_dim])\n",
    "xs = tf.split(x, max_len_caption, axis=1)\n",
    "xs = [tf.reshape(xsi, [-1, embedding_dim]) for xsi in xs]\n",
    "\n",
    "lstm_cell = tf.contrib.rnn.BasicLSTMCell(num_units=voc_dim)\n",
    "\n",
    "inputs = tf.stack([xm1] + xs[:-1], axis=1)\n",
    "\n",
    "captions_l = tf.placeholder(tf.int32, [None], name='captions_length')\n",
    "\n",
    "# def loop_fn(time, cell_output, cell_state, loop_state):\n",
    "#     emit_output = cell_output\n",
    "#     if cell_output is None:\n",
    "#         next_cell_state = cell.zero_state(xm1.shape[0], tf.float32)\n",
    "#     else:\n",
    "#         next_cell_state = cell_state\n",
    "#     elements_finished = (time >= captions_l)\n",
    "    \n",
    "    \n",
    "# Inference\n",
    "c_state_input = tf.placeholder(tf.float32, [None, lstm_cell.state_size[0]], name='c_state')\n",
    "m_state_input = tf.placeholder(tf.float32, [None, lstm_cell.state_size[1]], name='m_state')\n",
    "word_input = tf.placeholder(tf.int32, [None], name='word_input')\n",
    "# feeding_attrs = tf.placeholder(tf.bool, (), name='feeding_attrs')\n",
    "\n",
    "word_1_hot = tf.one_hot(indices=word_input,\n",
    "                        depth=voc_dim,\n",
    "                        axis=-1)\n",
    "word_embedding = tf.matmul(word_1_hot, Ts)\n",
    "\n",
    "# def embedding_feeding_word():\n",
    "#     word_1_hot = tf.one_hot(indices=word_input,\n",
    "#                             depth=voc_dim,\n",
    "#                             axis=-1)\n",
    "#     return tf.matmul(word_1_hot, Ts)\n",
    "# embedding = tf.cond(feeding_attrs,\n",
    "#                     lambda: xm1,\n",
    "#                     embedding_feeding_word)\n",
    "embedding = tf.placeholder(tf.float32, [None, embedding_dim], name='embedding')\n",
    "state_input = (c_state_input, m_state_input)\n",
    "\n",
    "# LSTM\n",
    "with tf.variable_scope('lstm') as lstm_scope:\n",
    "    outputs, _ = tf.nn.dynamic_rnn(lstm_cell,\n",
    "                                   inputs=inputs,\n",
    "                                   dtype=tf.float32,\n",
    "                                   sequence_length=captions_l,\n",
    "                                   parallel_iterations=1,\n",
    "                                   swap_memory=True)\n",
    "    lstm_scope.reuse_variables()\n",
    "    \n",
    "    # Inference\n",
    "    with tf.variable_scope('rnn'):\n",
    "        output_inf, state_inf = lstm_cell(inputs=embedding,\n",
    "                                          state=state_input)\n",
    "outputs_idx = tf.argmax(outputs, axis=-1)\n",
    "outputs_idx_inf = tf.argmax(output_inf, axis=-1)\n",
    "\n",
    "mask = tf.sequence_mask(captions_l, max_len_caption)\n",
    "\n",
    "cross_entropy = tf.nn.sparse_softmax_cross_entropy_with_logits(logits=outputs, labels=captions)\n",
    "masked_ce = tf.boolean_mask(cross_entropy, mask)\n",
    "cost = tf.reduce_mean(masked_ce)\n",
    "optimizer = tf.train.GradientDescentOptimizer(learning_rate=0.001)\n",
    "grads = optimizer.compute_gradients(cost)\n",
    "train_optimizer = optimizer.apply_gradients(grads)\n",
    "\n",
    "with tf.name_scope('summaries'):\n",
    "    tf.summary.scalar('cost', cost)\n",
    "    tf.summary.histogram('crossentropy', cross_entropy)\n",
    "    tf.summary.histogram('outputs', outputs)\n",
    "    for var in tf.trainable_variables():\n",
    "        tf.summary.histogram(var.name[:-2], var.value())\n",
    "    for grad, var in grads:\n",
    "        tf.summary.histogram('grad_' + var.name[:-2], grad)\n",
    "    \n",
    "merged = tf.summary.merge_all()\n",
    "saver = tf.train.Saver()"
   ]
  },
  {
   "cell_type": "code",
   "execution_count": 84,
   "metadata": {},
   "outputs": [],
   "source": [
    "def train(epoch, batch_size, sess, train_writer):\n",
    "    _, cost_, summary, ce = sess.run([train_optimizer, cost, merged, cross_entropy],\n",
    "           feed_dict={captions: enc_captions_train[epoch*batch_size:(epoch+1)*batch_size],\n",
    "                      captions_l: caption_lengths_train[epoch*batch_size:(epoch+1)*batch_size],\n",
    "                      attrs: data_train[epoch*batch_size:(epoch+1)*batch_size]})\n",
    "#     if not np.finite(ce).all():\n",
    "#         print('CE not finite')\n",
    "    train_writer.add_summary(summary, epoch)\n",
    "    train_writer.flush()\n",
    "    print(cost_)"
   ]
  },
  {
   "cell_type": "code",
   "execution_count": 85,
   "metadata": {},
   "outputs": [
    {
     "name": "stdout",
     "output_type": "stream",
     "text": [
      "9.18124\n",
      "9.14902\n",
      "9.15536\n",
      "9.15502\n",
      "9.18911\n",
      "9.16504\n",
      "9.16273\n",
      "9.17028\n",
      "9.13116\n",
      "9.17267\n"
     ]
    }
   ],
   "source": [
    "batch_size=2\n",
    "num_epochs=10\n",
    "\n",
    "with tf.Session() as sess:\n",
    "    init = tf.global_variables_initializer()\n",
    "    sess.run(init)\n",
    "    train_writer = tf.summary.FileWriter(summaries_path + '/train/' + str(datetime.now()),\n",
    "                                         sess.graph)\n",
    "    for epoch in range(num_epochs):\n",
    "        train(epoch, batch_size, sess, train_writer)\n",
    "    saver.save(sess, weight_path)"
   ]
  },
  {
   "cell_type": "code",
   "execution_count": null,
   "metadata": {
    "collapsed": true
   },
   "outputs": [],
   "source": [
    "data_val, captions_val = load_data(data_path, 'val')\n"
   ]
  },
  {
   "cell_type": "code",
   "execution_count": 144,
   "metadata": {
    "collapsed": true
   },
   "outputs": [],
   "source": [
    "def test(sess, subset_size):\n",
    "    word_input_ = [word_to_ix['<start>']] * subset_size\n",
    "    c_state_input_, m_state_input_ = lstm_cell.zero_state(batch_size=subset_size, dtype=tf.float32)\n",
    "    c_state_input_ = c_state_input_.eval(session=sess)\n",
    "    m_state_input_ = m_state_input_.eval(session=sess)\n",
    "    captions = []\n",
    "    for _ in range(subset_size):\n",
    "        captions.append([])\n",
    "    ended = np.zeros(subset_size, dtype=bool)\n",
    "    \n",
    "    # Feed the attributes\n",
    "    attrs_embedding, = sess.run([xm1], feed_dict={attrs: data_val[:subset_size]})\n",
    "    state_, = sess.run([state_inf], feed_dict={c_state_input: c_state_input_,\n",
    "                                               m_state_input: m_state_input_,\n",
    "                                               embedding: attrs_embedding})\n",
    "    \n",
    "    # Generate the words\n",
    "    for step in range(max_len_caption):\n",
    "        c_state_input_, m_state_input_ = state_\n",
    "        word_embedding_, = sess.run([word_embedding],\n",
    "                                   feed_dict={word_input: word_input_})\n",
    "        output_, state_ = sess.run([outputs_idx_inf, state_inf],\n",
    "                                feed_dict={c_state_input: c_state_input_,\n",
    "                                           m_state_input: m_state_input_,\n",
    "                                           embedding: word_embedding_})\n",
    "        ended = np.logical_or(ended, output_ == word_to_ix['<end>'])\n",
    "        if ended.all():\n",
    "            break\n",
    "        for caption, output_id, ended_caption in zip(captions, output_, ended):\n",
    "            if not ended_caption:\n",
    "                caption.append(vocabulary[output_id])\n",
    "        word_input_ = output_\n",
    "    return [' '.join(caption) for caption in captions]"
   ]
  },
  {
   "cell_type": "code",
   "execution_count": 147,
   "metadata": {},
   "outputs": [
    {
     "name": "stdout",
     "output_type": "stream",
     "text": [
      "[u'assist timey lumber uniquely mull incorporating footage arbor oars buffet rickshaw remote technological frosted doughnut', u\"'s angle angle dishware handlebars coming farmers takes ambience desk high-performance defaced settlers direction direction\", u'domino dough bald ribbed growth bib doors safeway safeway eighteen advertisements speed traditional step common', u\"else blizzard toned toned study arugula all arugula all author 's chaise cape wifit cool\", u'assist except brochures peaking turn turn overhang submarine hour pair samsung montage compartmentalized shallows shallows']\n"
     ]
    }
   ],
   "source": [
    "subset_size = 5\n",
    "with tf.Session() as sess:\n",
    "    saver.restore(sess, weigth_path)\n",
    "    captions = test(sess, subset_size)\n",
    "print(captions)"
   ]
  },
  {
   "cell_type": "code",
   "execution_count": null,
   "metadata": {
    "collapsed": true
   },
   "outputs": [],
   "source": [
    "np.array(vocabulary)[outputs_idx_]"
   ]
  },
  {
   "cell_type": "code",
   "execution_count": null,
   "metadata": {
    "collapsed": true
   },
   "outputs": [],
   "source": [
    "outputs_idx.shape"
   ]
  }
 ],
 "metadata": {
  "kernelspec": {
   "display_name": "Python 2",
   "language": "python",
   "name": "python2"
  },
  "language_info": {
   "codemirror_mode": {
    "name": "ipython",
    "version": 2
   },
   "file_extension": ".py",
   "mimetype": "text/x-python",
   "name": "python",
   "nbconvert_exporter": "python",
   "pygments_lexer": "ipython2",
   "version": "2.7.14"
  }
 },
 "nbformat": 4,
 "nbformat_minor": 2
}
