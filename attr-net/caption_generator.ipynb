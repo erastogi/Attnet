{
 "cells": [
  {
   "cell_type": "code",
   "execution_count": 64,
   "metadata": {},
   "outputs": [],
   "source": [
    "from collections import defaultdict\n",
    "from itertools import chain\n",
    "import json\n",
    "import glob\n",
    "import tensorflow as tf\n",
    "from nltk import word_tokenize\n",
    "import numpy as np\n",
    "import os"
   ]
  },
  {
   "cell_type": "code",
   "execution_count": 65,
   "metadata": {},
   "outputs": [],
   "source": [
    "data_path = '/Users/kevinhchon/Documents/11-777/11777-GAN-image-description/attr-net/preprocessing'\n",
    "visual_concepts_path = '/Users/kevinhchon/Documents/11-777/data/'\n",
    "annotations_path = visual_concepts_path + 'annotations'"
   ]
  },
  {
   "cell_type": "code",
   "execution_count": 66,
   "metadata": {},
   "outputs": [],
   "source": [
    "# punctuations to be removed from the sentences, from scripts/script_1.py\n",
    "punctuations = [\"''\", \"'\", \"``\", \"`\", \"-LRB-\", \"-RRB-\", \"-LCB-\", \"-RCB-\",\n",
    "  \".\", \"?\", \"!\", \",\", \":\", \"-\", \"--\", \"...\", \";\"] \n",
    "\n",
    "def tokenize_caption(caption):\n",
    "    return [token.lower() for token in word_tokenize(caption) if token not in punctuations]\n",
    "\n",
    "def load_captions(annotations_path, dataset):\n",
    "    annotations_json_path = annotations_path + '/captions_{}2014.json'.format(dataset)\n",
    "    with open(annotations_json_path, 'r') as annotations_file:\n",
    "        annotations_json = annotations_file.read()\n",
    "    annotations = json.loads(annotations_json)\n",
    "    captions = defaultdict(lambda: [])\n",
    "    for c in annotations['annotations']:\n",
    "        captions[c['image_id']].append(tokenize_caption(c['caption']))\n",
    "    return captions\n",
    "\n",
    "def load_batch(batches_path, captions_dict, batch_id):\n",
    "    batch_json_path = batches_path + '/batch{}.npz'.format(batch_id)\n",
    "    npzfile = np.load(batch_json_path)\n",
    "    ids = sorted(int(key) for key in npzfile.keys())\n",
    "    data_batch = [npzfile[str(id_)] for id_ in ids]\n",
    "    npzfile.close()\n",
    "    captions_batch = [captions_dict[id_] for id_ in ids]\n",
    "    return data_batch, captions_batch\n",
    "\n",
    "def load_data(data_path, dataset):\n",
    "    batches_path = data_path + '/' + dataset\n",
    "    captions_dict = load_captions(annotations_path, dataset)\n",
    "    num_batches = len([f for f in os.listdir(batches_path)])\n",
    "    #num_batches = sum(1 for _ in batches_path.glob('*.npz'))\n",
    "    data_batches, captions_batches = zip(*[load_batch(batches_path, captions_dict, batch_id)\n",
    "                                           for batch_id in range(num_batches)])\n",
    "    data = np.asarray(list(chain.from_iterable((data_batches))))\n",
    "    captions = list(chain.from_iterable(captions_batches))\n",
    "    return data, captions"
   ]
  },
  {
   "cell_type": "code",
   "execution_count": 67,
   "metadata": {},
   "outputs": [],
   "source": [
    "def voc(captions_train):\n",
    "    vocabulary_set = set()\n",
    "    for tcaptions_lists in captions_train:\n",
    "        for tcaption in tcaptions_lists:\n",
    "            vocabulary_set.update(tcaption)\n",
    "    vocabulary = sorted(vocabulary_set)\n",
    "\n",
    "    vocabulary += ['<start>', '<end>', '<UNK>']\n",
    "    word_to_ix = {word: i for i, word in enumerate(vocabulary)}\n",
    "    return vocabulary, word_to_ix\n",
    "\n",
    "def encode_captions(captions, word_to_ix):\n",
    "    unknown_ix = word_to_ix['<UNK>']\n",
    "    encoded_captions = np.ones((data_train.shape[0], num_captions_per_example, max_len_caption), dtype=int) * word_to_ix['<end>']\n",
    "    encoded_captions[:, :, 0] = word_to_ix['<start>']\n",
    "    caption_lengths = np.zeros((data_train.shape[0], num_captions_per_example), dtype=int)\n",
    "    for i, tcaption_list in enumerate(captions):\n",
    "        for j in range(num_captions_per_example):\n",
    "            tcaption = tcaption_list[j]\n",
    "            caption_lengths[i, j] = len(tcaption) + 2 # num words + attrs + <start>\n",
    "            for k, word in enumerate(tcaption):\n",
    "                encoded_captions[i, j, k+1] = word_to_ix.get(word, unknown_ix)\n",
    "    return encoded_captions, caption_lengths"
   ]
  },
  {
   "cell_type": "code",
   "execution_count": 214,
   "metadata": {
    "scrolled": false
   },
   "outputs": [
    {
     "data": {
      "text/plain": [
       "array([[9576, 1725, 5576, ..., 9577, 9577, 9577],\n",
       "       [9576,   89, 3565, ..., 9577, 9577, 9577],\n",
       "       [9576,   89, 3252, ..., 9577, 9577, 9577],\n",
       "       ..., \n",
       "       [9576, 1623, 1118, ..., 9577, 9577, 9577],\n",
       "       [9576,   89, 4609, ...,  780, 4345, 9577],\n",
       "       [9576,   89, 4490, ..., 9577, 9577, 9577]])"
      ]
     },
     "execution_count": 214,
     "metadata": {},
     "output_type": "execute_result"
    }
   ],
   "source": [
    "enc_captions_train"
   ]
  },
  {
   "cell_type": "code",
   "execution_count": 68,
   "metadata": {},
   "outputs": [],
   "source": [
    "num_captions_per_example = 5\n",
    "max_len_caption = 60\n",
    "\n",
    "data_train, captions_train = load_data(data_path, 'train')\n",
    "\n",
    "vocabulary, word_to_ix = voc(captions_train)\n",
    "enc_captions_train, caption_lengths_train = encode_captions(captions_train, word_to_ix)\n",
    "\n",
    "# Keep one caption per example for now\n",
    "enc_captions_train = enc_captions_train[:, 0, :]\n",
    "caption_lengths_train = caption_lengths_train[:, 0]\n",
    "\n",
    "max_size_caption = 15\n",
    "if max_size_caption is not None:\n",
    "    max_len_caption = max_size_caption\n",
    "    captions_to_keep = caption_lengths_train <= max_size_caption\n",
    "    enc_captions_train = enc_captions_train[captions_to_keep][:, :max_size_caption]\n",
    "    caption_lengths_train = caption_lengths_train[captions_to_keep]\n",
    "    data_train = data_train[captions_to_keep]"
   ]
  },
  {
   "cell_type": "code",
   "execution_count": 69,
   "metadata": {},
   "outputs": [
    {
     "data": {
      "text/plain": [
       "(8475, 15)"
      ]
     },
     "execution_count": 69,
     "metadata": {},
     "output_type": "execute_result"
    }
   ],
   "source": [
    "enc_captions_train.shape"
   ]
  },
  {
   "cell_type": "code",
   "execution_count": 50,
   "metadata": {},
   "outputs": [
    {
     "data": {
      "text/plain": [
       "(8475, 15)"
      ]
     },
     "execution_count": 50,
     "metadata": {},
     "output_type": "execute_result"
    }
   ],
   "source": [
    "enc_captions_train.shape"
   ]
  },
  {
   "cell_type": "code",
   "execution_count": 70,
   "metadata": {
    "scrolled": true
   },
   "outputs": [],
   "source": [
    "embedding_dim = 10\n",
    "voc_dim = len(vocabulary)"
   ]
  },
  {
   "cell_type": "code",
   "execution_count": 71,
   "metadata": {},
   "outputs": [],
   "source": [
    "new_attr_size = 100\n",
    "if new_attr_size is not None:\n",
    "    data_train = data_train[:, :new_attr_size]"
   ]
  },
  {
   "cell_type": "code",
   "execution_count": 49,
   "metadata": {},
   "outputs": [
    {
     "data": {
      "text/plain": [
       "(8475, 100)"
      ]
     },
     "execution_count": 49,
     "metadata": {},
     "output_type": "execute_result"
    }
   ],
   "source": [
    "data_train.shape"
   ]
  },
  {
   "cell_type": "code",
   "execution_count": 72,
   "metadata": {},
   "outputs": [],
   "source": [
    "tf.reset_default_graph()\n",
    "\n",
    "attrs_dim = data_train.shape[1]\n",
    "attrs = tf.placeholder(tf.float32, [None, attrs_dim])\n",
    "Ta = tf.get_variable('Ta',\n",
    "                     shape=[attrs_dim, embedding_dim],\n",
    "                     initializer=tf.random_normal_initializer())\n",
    "xm1 = tf.matmul(attrs, Ta) # x^{-1}\n",
    "\n",
    "captions = tf.placeholder(tf.int32, [None, max_len_caption])\n",
    "caption_1_hot = tf.one_hot(indices=captions,\n",
    "                           depth=voc_dim,\n",
    "                           axis=-1)\n",
    "Ts = tf.get_variable('Ts',\n",
    "                     shape=[voc_dim, embedding_dim],\n",
    "                     initializer=tf.random_normal_initializer())\n",
    "\n",
    "c1hr = tf.reshape(caption_1_hot, [-1, voc_dim])\n",
    "xr = tf.matmul(c1hr, Ts)\n",
    "x = tf.reshape(xr, [-1, max_len_caption, embedding_dim])\n",
    "xs = tf.split(x, max_len_caption, axis=1)\n",
    "xs = [tf.reshape(xsi, [-1, embedding_dim]) for xsi in xs]\n",
    "\n",
    "lstm_cell = tf.contrib.rnn.BasicLSTMCell(num_units=voc_dim)\n",
    "\n",
    "inputs = tf.stack([xm1] + xs[:-1], axis=1)\n",
    "\n",
    "captions_l = tf.placeholder(tf.int32, [None])\n",
    "outputs, _ = tf.nn.dynamic_rnn(lstm_cell,\n",
    "                               inputs=inputs,\n",
    "                               dtype=tf.float32,\n",
    "                               sequence_length=captions_l,\n",
    "                               parallel_iterations=1,\n",
    "                               swap_memory=True)\n",
    "\n",
    "cost = tf.reduce_mean(tf.nn.sparse_softmax_cross_entropy_with_logits(logits=outputs, labels=captions))\n",
    "optimizer = tf.train.GradientDescentOptimizer(learning_rate=0.01)\n",
    "train = optimizer.minimize(cost)"
   ]
  },
  {
   "cell_type": "code",
   "execution_count": 73,
   "metadata": {},
   "outputs": [
    {
     "data": {
      "text/plain": [
       "array([[[ 0.00191331,  0.00194587,  0.02540742, ...,  0.0072472 ,\n",
       "          0.0117728 , -0.01441276],\n",
       "        [ 0.0095245 ,  0.00363831,  0.01355193, ...,  0.00732302,\n",
       "          0.00975402, -0.012561  ],\n",
       "        [ 0.00515647, -0.00172455,  0.00491368, ...,  0.00618521,\n",
       "          0.00993401, -0.01052327],\n",
       "        ..., \n",
       "        [ 0.        ,  0.        ,  0.        , ...,  0.        ,\n",
       "          0.        ,  0.        ],\n",
       "        [ 0.        ,  0.        ,  0.        , ...,  0.        ,\n",
       "          0.        ,  0.        ],\n",
       "        [ 0.        ,  0.        ,  0.        , ...,  0.        ,\n",
       "          0.        ,  0.        ]]], dtype=float32)"
      ]
     },
     "execution_count": 73,
     "metadata": {},
     "output_type": "execute_result"
    }
   ],
   "source": [
    "\n",
    "outputs_"
   ]
  },
  {
   "cell_type": "code",
   "execution_count": 74,
   "metadata": {},
   "outputs": [],
   "source": [
    "batch_size=1\n",
    "\n",
    "sess = tf.Session()\n",
    "init = tf.global_variables_initializer()\n",
    "sess.run(init)\n",
    "_, cost_, outputs_ = sess.run([train, cost, outputs],\n",
    "               feed_dict={captions: enc_captions_train[:batch_size],\n",
    "                          captions_l: caption_lengths_train[:batch_size],\n",
    "                          attrs: data_train[:batch_size]})"
   ]
  },
  {
   "cell_type": "code",
   "execution_count": 75,
   "metadata": {},
   "outputs": [
    {
     "data": {
      "text/plain": [
       "array([[[-0.00259182,  0.00694182, -0.00249476, ...,  0.00126594,\n",
       "          0.0134656 , -0.01170486],\n",
       "        [-0.00453151, -0.00622142, -0.00233123, ...,  0.00464376,\n",
       "          0.00243244, -0.00309067],\n",
       "        [-0.00330993, -0.00765449, -0.00609488, ..., -0.00359173,\n",
       "          0.00063763, -0.01337169],\n",
       "        ..., \n",
       "        [ 0.        ,  0.        ,  0.        , ...,  0.        ,\n",
       "          0.        ,  0.        ],\n",
       "        [ 0.        ,  0.        ,  0.        , ...,  0.        ,\n",
       "          0.        ,  0.        ],\n",
       "        [ 0.        ,  0.        ,  0.        , ...,  0.        ,\n",
       "          0.        ,  0.        ]]], dtype=float32)"
      ]
     },
     "execution_count": 75,
     "metadata": {},
     "output_type": "execute_result"
    }
   ],
   "source": [
    "outputs_"
   ]
  },
  {
   "cell_type": "code",
   "execution_count": null,
   "metadata": {},
   "outputs": [],
   "source": []
  }
 ],
 "metadata": {
  "kernelspec": {
   "display_name": "Python 2",
   "language": "python",
   "name": "python2"
  },
  "language_info": {
   "codemirror_mode": {
    "name": "ipython",
    "version": 2
   },
   "file_extension": ".py",
   "mimetype": "text/x-python",
   "name": "python",
   "nbconvert_exporter": "python",
   "pygments_lexer": "ipython2",
   "version": "2.7.14"
  }
 },
 "nbformat": 4,
 "nbformat_minor": 2
}
