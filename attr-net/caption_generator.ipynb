{
 "cells": [
  {
   "cell_type": "code",
   "execution_count": 2,
   "metadata": {},
   "outputs": [
    {
     "name": "stderr",
     "output_type": "stream",
     "text": [
      "Using TensorFlow backend.\n"
     ]
    }
   ],
   "source": [
    "from collections import defaultdict\n",
    "from itertools import chain\n",
    "import json\n",
    "from pathlib import Path\n",
    "\n",
    "import tensorflow as tf\n",
    "from keras.models import Sequential\n",
    "from keras.layers.core import Dense, Flatten\n",
    "from keras.layers.embeddings import Embedding\n",
    "from keras.layers.recurrent import LSTM, SimpleRNN\n",
    "from keras.layers.wrappers import TimeDistributed\n",
    "from nltk import word_tokenize\n",
    "import numpy as np"
   ]
  },
  {
   "cell_type": "code",
   "execution_count": 3,
   "metadata": {},
   "outputs": [],
   "source": [
    "data_path = Path('/home/ilai/CMU/Fall2017/11777_Advanced_Multimodal_Machine_Learning/Project/visual-concepts/preprocessing')\n",
    "visual_concepts_path = Path('/home/ilai/CMU/Fall2017/11777_Advanced_Multimodal_Machine_Learning/Project/visual-concepts/data')\n",
    "annotations_path = visual_concepts_path.joinpath('annotations')"
   ]
  },
  {
   "cell_type": "code",
   "execution_count": 4,
   "metadata": {},
   "outputs": [],
   "source": [
    "# punctuations to be removed from the sentences, from scripts/script_1.py\n",
    "punctuations = [\"''\", \"'\", \"``\", \"`\", \"-LRB-\", \"-RRB-\", \"-LCB-\", \"-RCB-\",\n",
    "  \".\", \"?\", \"!\", \",\", \":\", \"-\", \"--\", \"...\", \";\"] \n",
    "\n",
    "def tokenize_caption(caption):\n",
    "    return [token.lower() for token in word_tokenize(caption) if token not in punctuations]\n",
    "\n",
    "def load_captions(annotations_path, dataset):\n",
    "    annotations_json = annotations_path.joinpath('captions_{}2014.json'.format(dataset)).read_text()\n",
    "    annotations = json.loads(annotations_json)\n",
    "    captions = defaultdict(lambda: [])\n",
    "    for c in annotations['annotations']:\n",
    "        captions[c['image_id']].append(tokenize_caption(c['caption']))\n",
    "    return captions\n",
    "\n",
    "def load_batch(batches_path, captions_dict, batch_id):\n",
    "    batch_path = batches_path.joinpath('batch{}.npz'.format(batch_id))\n",
    "    npzfile = np.load(batch_path)\n",
    "    ids = sorted(int(key) for key in npzfile.keys())\n",
    "    data_batch = [npzfile[str(id_)] for id_ in ids]\n",
    "    npzfile.close()\n",
    "    captions_batch = [captions_dict[id_] for id_ in ids]\n",
    "    return data_batch, captions_batch\n",
    "\n",
    "def load_data(data_path, dataset):\n",
    "    batches_path = data_path.joinpath(dataset)\n",
    "    captions_dict = load_captions(annotations_path, dataset)\n",
    "    num_batches = sum(1 for _ in batches_path.glob('*.npz'))\n",
    "    data_batches, captions_batches = zip(*[load_batch(batches_path, captions_dict, batch_id)\n",
    "                                           for batch_id in range(num_batches)])\n",
    "    data = np.asarray(list(chain.from_iterable((data_batches))))\n",
    "    captions = list(chain.from_iterable(captions_batches))\n",
    "    return data, captions"
   ]
  },
  {
   "cell_type": "code",
   "execution_count": 5,
   "metadata": {},
   "outputs": [],
   "source": [
    "def voc(captions_train):\n",
    "    vocabulary_set = set()\n",
    "    for tcaptions_lists in captions_train:\n",
    "        for tcaption in tcaptions_lists:\n",
    "            vocabulary_set.update(tcaption)\n",
    "    vocabulary = sorted(vocabulary_set)\n",
    "\n",
    "    vocabulary += ['<start>', '<end>', '<UNK>']\n",
    "    word_to_ix = {word: i for i, word in enumerate(vocabulary)}\n",
    "    return vocabulary, word_to_ix\n",
    "\n",
    "def encode_captions(captions, word_to_ix):\n",
    "    unknown_ix = word_to_ix['<UNK>']\n",
    "    encoded_captions = np.ones((data_train.shape[0], num_captions_per_example, max_len_caption), dtype=int) * word_to_ix['<end>']\n",
    "    encoded_captions[:, :, 0] = word_to_ix['<start>']\n",
    "    caption_lengths = np.zeros((data_train.shape[0], num_captions_per_example), dtype=int)\n",
    "    for i, tcaption_list in enumerate(captions):\n",
    "        for j in range(num_captions_per_example):\n",
    "            tcaption = tcaption_list[j]\n",
    "            caption_lengths[i, j] = len(tcaption) + 2 # num words + attrs + <start>\n",
    "            for k, word in enumerate(tcaption):\n",
    "                encoded_captions[i, j, k+1] = word_to_ix.get(word, unknown_ix)\n",
    "    return encoded_captions, caption_lengths"
   ]
  },
  {
   "cell_type": "code",
   "execution_count": 214,
   "metadata": {},
   "outputs": [
    {
     "data": {
      "text/plain": [
       "array([[9576, 1725, 5576, ..., 9577, 9577, 9577],\n",
       "       [9576,   89, 3565, ..., 9577, 9577, 9577],\n",
       "       [9576,   89, 3252, ..., 9577, 9577, 9577],\n",
       "       ..., \n",
       "       [9576, 1623, 1118, ..., 9577, 9577, 9577],\n",
       "       [9576,   89, 4609, ...,  780, 4345, 9577],\n",
       "       [9576,   89, 4490, ..., 9577, 9577, 9577]])"
      ]
     },
     "execution_count": 214,
     "metadata": {},
     "output_type": "execute_result"
    }
   ],
   "source": [
    "enc_captions_train"
   ]
  },
  {
   "cell_type": "code",
   "execution_count": 6,
   "metadata": {},
   "outputs": [],
   "source": [
    "num_captions_per_example = 5\n",
    "max_len_caption = 60\n",
    "\n",
    "data_train, captions_train = load_data(data_path, 'train')\n",
    "\n",
    "vocabulary, word_to_ix = voc(captions_train)\n",
    "enc_captions_train, caption_lengths_train = encode_captions(captions_train, word_to_ix)\n",
    "\n",
    "# Keep one caption per example for now\n",
    "enc_captions_train = enc_captions_train[:, 0, :]\n",
    "caption_lengths_train = caption_lengths_train[:, 0]\n",
    "\n",
    "max_size_caption = 15\n",
    "if max_size_caption is not None:\n",
    "    max_len_caption = max_size_caption\n",
    "    captions_to_keep = caption_lengths_train <= max_size_caption\n",
    "    enc_captions_train = enc_captions_train[captions_to_keep][:, :max_size_caption]\n",
    "    caption_lengths_train = caption_lengths_train[captions_to_keep]\n",
    "    data_train = data_train[captions_to_keep]"
   ]
  },
  {
   "cell_type": "code",
   "execution_count": 204,
   "metadata": {},
   "outputs": [
    {
     "data": {
      "text/plain": [
       "(8475, 15)"
      ]
     },
     "execution_count": 204,
     "metadata": {},
     "output_type": "execute_result"
    }
   ],
   "source": [
    "enc_captions_train.shape"
   ]
  },
  {
   "cell_type": "code",
   "execution_count": 157,
   "metadata": {},
   "outputs": [
    {
     "data": {
      "text/plain": [
       "(9175, 60)"
      ]
     },
     "execution_count": 157,
     "metadata": {},
     "output_type": "execute_result"
    }
   ],
   "source": [
    "enc_captions_train.shape"
   ]
  },
  {
   "cell_type": "code",
   "execution_count": 10,
   "metadata": {
    "scrolled": true
   },
   "outputs": [],
   "source": [
    "embedding_dim = 10\n",
    "voc_dim = len(vocabulary)"
   ]
  },
  {
   "cell_type": "code",
   "execution_count": 7,
   "metadata": {},
   "outputs": [],
   "source": [
    "new_attr_size = 100\n",
    "if new_attr_size is not None:\n",
    "    data_train = data_train[:, :new_attr_size]"
   ]
  },
  {
   "cell_type": "code",
   "execution_count": 8,
   "metadata": {},
   "outputs": [
    {
     "data": {
      "text/plain": [
       "(8475, 100)"
      ]
     },
     "execution_count": 8,
     "metadata": {},
     "output_type": "execute_result"
    }
   ],
   "source": [
    "data_train.shape"
   ]
  },
  {
   "cell_type": "code",
   "execution_count": 11,
   "metadata": {},
   "outputs": [],
   "source": [
    "tf.reset_default_graph()\n",
    "\n",
    "attrs_dim = data_train.shape[1]\n",
    "attrs = tf.placeholder(tf.float32, [None, attrs_dim])\n",
    "Ta = tf.get_variable('Ta',\n",
    "                     shape=[attrs_dim, embedding_dim],\n",
    "                     initializer=tf.random_normal_initializer())\n",
    "xm1 = tf.matmul(attrs, Ta) # x^{-1}\n",
    "\n",
    "captions = tf.placeholder(tf.int32, [None, max_len_caption])\n",
    "caption_1_hot = tf.one_hot(indices=captions,\n",
    "                           depth=voc_dim,\n",
    "                           axis=-1)\n",
    "Ts = tf.get_variable('Ts',\n",
    "                     shape=[voc_dim, embedding_dim],\n",
    "                     initializer=tf.random_normal_initializer())\n",
    "\n",
    "c1hr = tf.reshape(caption_1_hot, [-1, voc_dim])\n",
    "xr = tf.matmul(c1hr, Ts)\n",
    "x = tf.reshape(xr, [-1, max_len_caption, embedding_dim])\n",
    "xs = tf.split(x, max_len_caption, axis=1)\n",
    "xs = [tf.reshape(xsi, [-1, embedding_dim]) for xsi in xs]\n",
    "\n",
    "lstm_cell = tf.nn.rnn_cell.BasicLSTMCell(num_units=voc_dim)\n",
    "\n",
    "captions_l = tf.placeholder(tf.int32, [None])\n",
    "outputs, _ = tf.nn.static_rnn(lstm_cell,\n",
    "                              [xm1] + xs[:-1],\n",
    "                              dtype=tf.float32,\n",
    "                              sequence_length=captions_l)\n",
    "\n",
    "costs_per_output = [tf.reduce_mean(tf.nn.sparse_softmax_cross_entropy_with_logits(logits=out, labels=captions[:, i+1]))\n",
    "                    for i, out in enumerate(outputs[1:])]\n",
    "cost = tf.add_n(costs_per_output) / tf.cast(captions_l, tf.float32)\n",
    "optimizer = tf.train.GradientDescentOptimizer(learning_rate=0.01)\n",
    "train = optimizer.minimize(cost)"
   ]
  },
  {
   "cell_type": "code",
   "execution_count": null,
   "metadata": {},
   "outputs": [],
   "source": [
    "batch_size=1\n",
    "\n",
    "sess = tf.Session(config=tf.ConfigProto(\n",
    "        device_count = {'GPU': 0}\n",
    "    )\n",
    ")\n",
    "init = tf.global_variables_initializer()\n",
    "sess.run(init)\n",
    "_, out = sess.run([train, cost],\n",
    "               feed_dict={captions: enc_captions_train[:batch_size],\n",
    "                          captions_l: caption_lengths_train[:batch_size],\n",
    "                          attrs: data_train[:batch_size]})"
   ]
  },
  {
   "cell_type": "code",
   "execution_count": null,
   "metadata": {},
   "outputs": [],
   "source": [
    "out"
   ]
  }
 ],
 "metadata": {
  "kernelspec": {
   "display_name": "Python 3",
   "language": "python",
   "name": "python3"
  },
  "language_info": {
   "codemirror_mode": {
    "name": "ipython",
    "version": 3
   },
   "file_extension": ".py",
   "mimetype": "text/x-python",
   "name": "python",
   "nbconvert_exporter": "python",
   "pygments_lexer": "ipython3",
   "version": "3.6.3"
  }
 },
 "nbformat": 4,
 "nbformat_minor": 2
}
