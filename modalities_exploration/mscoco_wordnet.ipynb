{
 "cells": [
  {
   "cell_type": "code",
   "execution_count": 1,
   "metadata": {
    "collapsed": true
   },
   "outputs": [],
   "source": [
    "import matplotlib.pyplot as plt\n",
    "import networkx as nx\n",
    "from nltk.corpus import wordnet as wn"
   ]
  },
  {
   "cell_type": "code",
   "execution_count": 2,
   "metadata": {
    "collapsed": true
   },
   "outputs": [],
   "source": [
    "categories = {'person', 'bicycle', 'car', 'motorcycle', 'airplane', 'bus', 'train', 'truck', 'boat', 'traffic light', 'fire hydrant', 'stop sign', 'parking meter', 'bench', 'bird', 'cat', 'dog', 'horse', 'sheep', 'cow', 'elephant', 'bear', 'zebra', 'giraffe', 'backpack', 'umbrella', 'handbag', 'tie', 'suitcase', 'frisbee', 'skis',  'snowboard', 'sports ball', 'kite', 'baseball bat', 'baseball glove', 'skateboard', 'surfboard', 'tennis racket', 'bottle', 'wine glass', 'cup', 'fork', 'knife', 'spoon'    , 'bowl', 'banana', 'apple', 'sandwich', 'orange', 'broccoli', 'carrot', 'hot dog', 'pizza', 'donut', 'cake', 'chair', 'couch', 'potted plant', 'bed', 'dining table', 'toilet', 'tv', 'laptop', 'mouse', 'remote', 'keyboard', 'cell phone', 'microwave', 'oven', 'toaster', 'sink', 'refrigerator', 'book', 'clock', 'vase', 'scissors', 'teddy bear', 'hair drier', 'toothbrush'}"
   ]
  },
  {
   "cell_type": "code",
   "execution_count": 3,
   "metadata": {
    "collapsed": true
   },
   "outputs": [],
   "source": [
    "def format_category(category):\n",
    "    if category == 'cell phone':\n",
    "        return 'telephone.n.0'  # no cell phone entry found\n",
    "    elif category == 'skis':\n",
    "        return 'ski.n.0'  # singular\n",
    "    elif category == 'sports ball':\n",
    "        return 'ball.n.0'\n",
    "    elif category == 'wine glass':\n",
    "        return 'wineglass.n.0'\n",
    "    elif category == 'potted plant':\n",
    "        return 'pot_plant.n.0'\n",
    "    elif category in ('stop sign',):\n",
    "        return None\n",
    "    category = category.replace(' ', '_')\n",
    "    return '{}.n.0'.format(category)"
   ]
  },
  {
   "cell_type": "code",
   "execution_count": 4,
   "metadata": {
    "scrolled": true
   },
   "outputs": [
    {
     "name": "stdout",
     "output_type": "stream",
     "text": [
      "airplane -> airplane.n.0\n",
      "apple -> apple.n.0\n",
      "backpack -> backpack.n.0\n",
      "banana -> banana.n.0\n",
      "baseball bat -> baseball_bat.n.0\n",
      "baseball glove -> baseball_glove.n.0\n",
      "bear -> bear.n.0\n",
      "bed -> bed.n.0\n",
      "bench -> bench.n.0\n",
      "bicycle -> bicycle.n.0\n",
      "bird -> bird.n.0\n",
      "boat -> boat.n.0\n",
      "book -> book.n.0\n",
      "bottle -> bottle.n.0\n",
      "bowl -> bowl.n.0\n",
      "broccoli -> broccoli.n.0\n",
      "bus -> bus.n.0\n",
      "cake -> cake.n.0\n",
      "car -> car.n.0\n",
      "carrot -> carrot.n.0\n",
      "cat -> cat.n.0\n",
      "cell phone -> telephone.n.0\n",
      "chair -> chair.n.0\n",
      "clock -> clock.n.0\n",
      "couch -> couch.n.0\n",
      "cow -> cow.n.0\n",
      "cup -> cup.n.0\n",
      "dining table -> dining_table.n.0\n",
      "dog -> dog.n.0\n",
      "donut -> donut.n.0\n",
      "elephant -> elephant.n.0\n",
      "fire hydrant -> fire_hydrant.n.0\n",
      "fork -> fork.n.0\n",
      "frisbee -> frisbee.n.0\n",
      "giraffe -> giraffe.n.0\n",
      "hair drier -> hair_drier.n.0\n",
      "handbag -> handbag.n.0\n",
      "horse -> horse.n.0\n",
      "hot dog -> hot_dog.n.0\n",
      "keyboard -> keyboard.n.0\n",
      "kite -> kite.n.0\n",
      "knife -> knife.n.0\n",
      "laptop -> laptop.n.0\n",
      "microwave -> microwave.n.0\n",
      "motorcycle -> motorcycle.n.0\n",
      "mouse -> mouse.n.0\n",
      "orange -> orange.n.0\n",
      "oven -> oven.n.0\n",
      "parking meter -> parking_meter.n.0\n",
      "person -> person.n.0\n",
      "pizza -> pizza.n.0\n",
      "potted plant -> pot_plant.n.0\n",
      "refrigerator -> refrigerator.n.0\n",
      "remote -> remote.n.0\n",
      "sandwich -> sandwich.n.0\n",
      "scissors -> scissors.n.0\n",
      "sheep -> sheep.n.0\n",
      "sink -> sink.n.0\n",
      "skateboard -> skateboard.n.0\n",
      "skis -> ski.n.0\n",
      "snowboard -> snowboard.n.0\n",
      "spoon -> spoon.n.0\n",
      "sports ball -> ball.n.0\n",
      "stop sign -> None\n",
      "suitcase -> suitcase.n.0\n",
      "surfboard -> surfboard.n.0\n",
      "teddy bear -> teddy_bear.n.0\n",
      "tennis racket -> tennis_racket.n.0\n",
      "tie -> tie.n.0\n",
      "toaster -> toaster.n.0\n",
      "toilet -> toilet.n.0\n",
      "toothbrush -> toothbrush.n.0\n",
      "traffic light -> traffic_light.n.0\n",
      "train -> train.n.0\n",
      "truck -> truck.n.0\n",
      "tv -> tv.n.0\n",
      "umbrella -> umbrella.n.0\n",
      "vase -> vase.n.0\n",
      "wine glass -> wineglass.n.0\n",
      "zebra -> zebra.n.0\n"
     ]
    }
   ],
   "source": [
    "synsets = set()\n",
    "labels = {}\n",
    "for category in sorted(categories):\n",
    "    formatted_category = format_category(category)\n",
    "    print('{} -> {}'.format(category, formatted_category))\n",
    "    if formatted_category is not None:\n",
    "        synset = wn.synset(formatted_category)\n",
    "        synsets.add(synset)\n",
    "        labels[synset] = category"
   ]
  },
  {
   "cell_type": "code",
   "execution_count": 5,
   "metadata": {},
   "outputs": [
    {
     "data": {
      "text/plain": [
       "[Synset('airplane.n.01'),\n",
       " [Synset('heavier-than-air_craft.n.01'),\n",
       "  [Synset('aircraft.n.01'),\n",
       "   [Synset('craft.n.02'),\n",
       "    [Synset('vehicle.n.01'),\n",
       "     [Synset('conveyance.n.03'),\n",
       "      [Synset('instrumentality.n.03'),\n",
       "       [Synset('artifact.n.01'),\n",
       "        [Synset('whole.n.02'),\n",
       "         [Synset('object.n.01'),\n",
       "          [Synset('physical_entity.n.01'), [Synset('entity.n.01')]]]]]]]]]]]]"
      ]
     },
     "execution_count": 5,
     "metadata": {},
     "output_type": "execute_result"
    }
   ],
   "source": [
    "wn.synset('airplane.n.0').tree(rel=lambda s:s.hypernyms())"
   ]
  },
  {
   "cell_type": "code",
   "execution_count": 6,
   "metadata": {
    "collapsed": true
   },
   "outputs": [],
   "source": [
    "G = nx.DiGraph()"
   ]
  },
  {
   "cell_type": "code",
   "execution_count": 7,
   "metadata": {
    "collapsed": true
   },
   "outputs": [],
   "source": [
    "def add_word(G, word, child=None):\n",
    "    new_node = word not in G\n",
    "    if new_node:\n",
    "        G.add_node(word)\n",
    "        labels[word] = word.name().split(sep='.')[0]\n",
    "    if child is not None:\n",
    "        G.add_edge(word, child)\n",
    "    if new_node:\n",
    "        hypernyms = word.hypernyms()\n",
    "        for parent in word.hypernyms():\n",
    "            add_word(G, parent, child=word)"
   ]
  },
  {
   "cell_type": "code",
   "execution_count": 8,
   "metadata": {
    "collapsed": true
   },
   "outputs": [],
   "source": [
    "for synset in synsets:\n",
    "    add_word(G, synset)"
   ]
  },
  {
   "cell_type": "code",
   "execution_count": 9,
   "metadata": {
    "collapsed": true
   },
   "outputs": [],
   "source": [
    "G = nx.relabel_nodes(G, labels)"
   ]
  },
  {
   "cell_type": "code",
   "execution_count": 10,
   "metadata": {},
   "outputs": [
    {
     "data": {
      "text/plain": [
       "KeysView(NodeView(('bus', 'car', 'motor_vehicle', 'self-propelled_vehicle', 'wheeled_vehicle', 'container', 'instrumentality', 'artifact', 'whole', 'object', 'physical_entity', 'entity', 'vehicle', 'conveyance', 'dysphemism', 'saying', 'speech', 'auditory_communication', 'communication', 'abstraction', 'microwave', 'kitchen_appliance', 'home_appliance', 'appliance', 'durables', 'consumer_goods', 'commodity', 'zebra', 'equine', 'odd-toed_ungulate', 'ungulate', 'placental', 'mammal', 'vertebrate', 'chordate', 'animal', 'organism', 'living_thing', 'bench', 'seat', 'furniture', 'furnishing', 'book', 'product', 'creation', 'gravy_boat', 'dish', 'crockery', 'tableware', 'ware', 'article', 'laptop', 'portable_computer', 'personal_computer', 'digital_computer', 'computer', 'machine', 'device', 'fireplug', 'hydrant', 'discharge_pipe', 'pipe', 'tube', 'conduit', 'passage', 'way', 'knight', 'chessman', 'man', 'game_equipment', 'equipment', 'cesspool', 'cistern', 'pool', 'excavation', 'reservoir', 'tank', 'vessel', 'couch', 'bed', 'bedroom_furniture', 'frank', 'sausage', 'meat', 'food', 'solid', 'matter', 'teddy', 'plaything', 'roll', 'propulsion', 'act', 'event', 'psychological_feature', 'sandwich', 'snack_food', 'nutriment', 'substance', 'sheep', 'follower', 'person', 'causal_agent', 'traffic_light', 'light', 'visual_signal', 'signal', 'refrigerator', 'white_goods', 'wineglass', 'glass', 'gearing', 'wheelwork', 'mechanical_device', 'mechanism', 'baseball_glove', 'baseball_equipment', 'sports_equipment', 'vase', 'jar', 'kite', 'hawk', 'bird_of_prey', 'bird', 'cow', 'unpleasant_woman', 'unpleasant_person', 'unwelcome_person', 'computerized_tomography', 'x-raying', 'imaging', 'pictorial_representation', 'representation', 'activity', 'oven', 'pizza', 'motorcycle', 'pot_plant', 'plant', 'scissors', 'gymnastic_exercise', 'exercise', 'effort', 'labor', 'work', 'banana', 'edible_fruit', 'fruit', 'reproductive_structure', 'plant_organ', 'plant_part', 'natural_object', 'produce', 'keyboard', 'holder', 'holding_device', 'hand_truck', 'handcart', 'chair', 'support', 'umbrella', 'union', 'combination', 'change_of_integrity', 'change', 'action', 'remote_control', 'cake', 'baked_goods', 'spoon', 'wood', 'golf_club', 'golf_equipment', 'toaster', 'orange', 'ball', 'pitch', 'throw', 'bicycle', 'tongue', 'projection', 'convex_shape', 'shape', 'attribute', 'bear', 'investor', 'capitalist', 'foundation', 'supporting_structure', 'structure', 'giraffe', 'ruminant', 'even-toed_ungulate', 'tie', 'cord', 'line', 'clock', 'timepiece', 'measuring_instrument', 'instrument', 'soup-strainer', 'mustache', 'facial_hair', 'hair', 'body_covering', 'covering', 'dining_table', 'table', 'bag', 'baggage', 'case', 'shuttlecock', 'badminton_equipment', 'tennis_racket', 'racket', 'sports_implement', 'implement', 'andiron', 'broccoli', 'cruciferous_vegetable', 'vegetable', 'crotch', 'angle', 'space', 'amorphous_shape', 'location', 'parking_meter', 'timer', 'carrot', 'reward', 'blessing', 'aid', 'grammatical_category', 'class', 'collection', 'group', 'airplane', 'heavier-than-air_craft', 'aircraft', 'craft', 'backpack', 'frisbee', 'disk', 'circle', 'rotating_mechanism', 'plate', 'sheet', 'toilet', 'dressing', 'protection', 'elephant', 'emblem', 'symbol', 'representational_process', 'basic_cognitive_process', 'process', 'cognition', 'baseball_bat', 'bat', 'club', 'stick', 'hand_blower', 'blower', 'dryer', 'ski', 'runner', 'surfboard', 'board', 'apple', 'apple_tree', 'fruit_tree', 'angiospermous_tree', 'tree', 'woody_plant', 'vascular_plant', 'telephone', 'telecommunication', 'medium', 'cable_car', 'compartment', 'room', 'area', 'cup', 'trophy', 'award', 'television_receiver', 'receiver', 'set', 'electronic_equipment', 'doughnut', 'friedcake', 'skateboard', 'snowboard', 'bottle', 'mouse', 'electronic_device')))"
      ]
     },
     "execution_count": 10,
     "metadata": {},
     "output_type": "execute_result"
    }
   ],
   "source": [
    "G.nodes.keys()"
   ]
  },
  {
   "cell_type": "code",
   "execution_count": 11,
   "metadata": {
    "collapsed": true
   },
   "outputs": [],
   "source": [
    "A = nx.nx_agraph.to_agraph(G)\n",
    "A.layout(prog='dot')\n",
    "A.draw('./mscoco_wordnet_graph.png')"
   ]
  },
  {
   "cell_type": "markdown",
   "metadata": {},
   "source": [
    "![MSCOCO Wordnet Graph](./mscoco_wordnet_graph.png)"
   ]
  },
  {
   "cell_type": "code",
   "execution_count": null,
   "metadata": {
    "collapsed": true
   },
   "outputs": [],
   "source": []
  }
 ],
 "metadata": {
  "kernelspec": {
   "display_name": "Python 3",
   "language": "python",
   "name": "python3"
  },
  "language_info": {
   "codemirror_mode": {
    "name": "ipython",
    "version": 3
   },
   "file_extension": ".py",
   "mimetype": "text/x-python",
   "name": "python",
   "nbconvert_exporter": "python",
   "pygments_lexer": "ipython3",
   "version": "3.6.3"
  }
 },
 "nbformat": 4,
 "nbformat_minor": 2
}
